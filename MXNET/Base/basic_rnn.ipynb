{
 "cells": [
  {
   "cell_type": "code",
   "execution_count": 32,
   "metadata": {},
   "outputs": [],
   "source": [
    "import mxnet as mx\n",
    "import mxnet.ndarray as nd\n",
    "from mxnet.gluon import nn,rnn"
   ]
  },
  {
   "cell_type": "markdown",
   "metadata": {},
   "source": [
    "![](https://ws1.sinaimg.cn/large/006tKfTcly1fmt9xz889xj30kb07nglo.jpg)"
   ]
  },
  {
   "cell_type": "markdown",
   "metadata": {},
   "source": [
    "`class mxnet.gluon.rnn.RNN(hidden_size, num_layers=1, activation='relu', layout='TNC', dropout=0, bidirectional=False, i2h_weight_initializer=None, h2h_weight_initializer=None, i2h_bias_initializer='zeros', h2h_bias_initializer='zeros', input_size=0, **kwargs)`"
   ]
  },
  {
   "cell_type": "markdown",
   "metadata": {},
   "source": [
    "Parameters:\t\n",
    "\n",
    "* hidden_size (int) – 隐含层也就是h的size\n",
    "* num_layers (int, default 1) – 使用几层RNN\n",
    "* activation ({'relu' or 'tanh'}, default 'relu') – 选取使用的激活函数\n",
    "* layout (str, default 'TNC') – The format of input and output tensors. T, N and C stand for sequence length, batch size, and feature dimensions respectively.\n",
    "* dropout (float, default 0) – 使用dropout的比例\n",
    "* bidirectional (bool, default False) – 是否使用双向RNN.\n",
    "* i2h_weight_initializer (str or Initializer) – Initializer for the input weights matrix, used for the linear transformation of the inputs.\n",
    "* h2h_weight_initializer (str or Initializer) – Initializer for the recurrent weights matrix, used for the linear transformation of the recurrent state.\n",
    "* i2h_bias_initializer (str or Initializer) – Initializer for the bias vector.\n",
    "* h2h_bias_initializer (str or Initializer) – Initializer for the bias vector.\n",
    "* input_size (int, default 0) – $x_{t}$的特征维度，也就是词向量的长度\n",
    "* prefix (str or None) – Prefix of this Block.\n",
    "* params (ParameterDict or None) – Shared Parameters for this Block."
   ]
  },
  {
   "cell_type": "markdown",
   "metadata": {},
   "source": [
    "初始化后的对象：\n",
    "\n",
    "* Inputs: data, states\n",
    "* Outputs: out, out_states\n"
   ]
  },
  {
   "cell_type": "code",
   "execution_count": 40,
   "metadata": {},
   "outputs": [],
   "source": [
    "# 这里只使用RNN()，因为基本只用这个类，而不用RNNCell\n",
    "rnn_seq = rnn.RNN(input_size=100, hidden_size=200)\n",
    "rnn_seq.collect_params().initialize(mx.init.Xavier())"
   ]
  },
  {
   "cell_type": "code",
   "execution_count": 41,
   "metadata": {},
   "outputs": [
    {
     "data": {
      "text/plain": [
       "[Parameter rnn4_l0_i2h_weight (shape=(200, 100), dtype=<class 'numpy.float32'>)]"
      ]
     },
     "execution_count": 41,
     "metadata": {},
     "output_type": "execute_result"
    }
   ],
   "source": [
    "rnn_seq.i2h_weight"
   ]
  },
  {
   "cell_type": "code",
   "execution_count": 42,
   "metadata": {
    "scrolled": true
   },
   "outputs": [
    {
     "name": "stdout",
     "output_type": "stream",
     "text": [
      "输入到隐层的权值:  [Parameter rnn4_l0_i2h_weight (shape=(200, 100), dtype=<class 'numpy.float32'>)]\n",
      "上一个时刻状态到下一个时刻的权值:  [Parameter rnn4_l0_h2h_weight (shape=(200, 200), dtype=<class 'numpy.float32'>)]\n"
     ]
    }
   ],
   "source": [
    "import numpy as np\n",
    "print('输入到隐层的权值: ', rnn_seq.i2h_weight)\n",
    "print('上一个时刻状态到下一个时刻的权值: ', rnn_seq.h2h_weight)"
   ]
  },
  {
   "cell_type": "markdown",
   "metadata": {},
   "source": [
    "<b>注意: </b> mxnet的RNN的输出是直接输出$h_{t}$而不是再经过一个神经网络得到$o_{t}$"
   ]
  },
  {
   "cell_type": "code",
   "execution_count": 43,
   "metadata": {},
   "outputs": [],
   "source": [
    "# 构造一个序列，长为 6，batch 是 5， 特征是 100\n",
    "x = nd.random.normal(0,1,shape=(6, 5, 100)) # 这是 rnn 的输入格式：\n",
    "                                           # (num_step, batchsize, word)也就是(选取的序列长度，每次批量的大小，和词向量的大小)"
   ]
  },
  {
   "cell_type": "code",
   "execution_count": 48,
   "metadata": {},
   "outputs": [],
   "source": [
    "h0 = mx.nd.random.uniform(shape=(1, 5, 200))"
   ]
  },
  {
   "cell_type": "code",
   "execution_count": 49,
   "metadata": {},
   "outputs": [],
   "source": [
    "output, state = rnn_seq(x, h0)"
   ]
  },
  {
   "cell_type": "code",
   "execution_count": 60,
   "metadata": {
    "scrolled": false
   },
   "outputs": [
    {
     "name": "stdout",
     "output_type": "stream",
     "text": [
      "output:  (6, 5, 200) \n",
      "state:  (1, 5, 200)\n"
     ]
    }
   ],
   "source": [
    "# state不取state[0]的维数会有问题，作为新手，暂时不纠结\n",
    "print('output: ', np.shape(output),'\\nstate: ', np.shape(state[0]))"
   ]
  },
  {
   "cell_type": "markdown",
   "metadata": {},
   "source": [
    "output其实就是所有的隐层输出，state就是最后一个神经元的输出"
   ]
  },
  {
   "cell_type": "markdown",
   "metadata": {},
   "source": [
    "<b> 当RNN取多个时："
   ]
  },
  {
   "cell_type": "code",
   "execution_count": 76,
   "metadata": {},
   "outputs": [],
   "source": [
    "rnn_seq = rnn.RNN(input_size=100, hidden_size=200, num_layers=3)\n",
    "rnn_seq.collect_params().initialize(mx.init.Xavier())"
   ]
  },
  {
   "cell_type": "code",
   "execution_count": 79,
   "metadata": {},
   "outputs": [
    {
     "name": "stdout",
     "output_type": "stream",
     "text": [
      "输入到隐层的权值:  [Parameter rnn6_l0_i2h_weight (shape=(200, 100), dtype=<class 'numpy.float32'>), Parameter rnn6_l1_i2h_weight (shape=(200, 200), dtype=<class 'numpy.float32'>), Parameter rnn6_l2_i2h_weight (shape=(200, 200), dtype=<class 'numpy.float32'>)]\n",
      "上一个时刻状态到下一个时刻的权值:  [Parameter rnn6_l0_h2h_weight (shape=(200, 200), dtype=<class 'numpy.float32'>), Parameter rnn6_l1_h2h_weight (shape=(200, 200), dtype=<class 'numpy.float32'>), Parameter rnn6_l2_h2h_weight (shape=(200, 200), dtype=<class 'numpy.float32'>)] \n",
      "\n"
     ]
    }
   ],
   "source": [
    "print('输入到隐层的权值: ', rnn_seq.i2h_weight)\n",
    "print('上一个时刻状态到下一个时刻的权值: ', rnn_seq.h2h_weight, '\\n')"
   ]
  },
  {
   "cell_type": "code",
   "execution_count": 85,
   "metadata": {
    "scrolled": true
   },
   "outputs": [
    {
     "name": "stdout",
     "output_type": "stream",
     "text": [
      "output:  (6, 1, 200) \n",
      "state:  (3, 1, 200)\n"
     ]
    }
   ],
   "source": [
    "x = nd.random.normal(0,1,shape=(6, 1, 100))\n",
    "h0 = mx.nd.random.uniform(shape=(3, 1, 200))\n",
    "\n",
    "output, state = rnn_seq(x, h0)\n",
    "\n",
    "print('output: ', np.shape(output),'\\nstate: ', np.shape(state[0]))"
   ]
  },
  {
   "cell_type": "markdown",
   "metadata": {},
   "source": [
    "这里的output输出每一个RNN最后一层的输出，state输出最后一个RNN的所有h"
   ]
  }
 ],
 "metadata": {
  "kernelspec": {
   "display_name": "Python 3",
   "language": "python",
   "name": "python3"
  },
  "language_info": {
   "codemirror_mode": {
    "name": "ipython",
    "version": 3
   },
   "file_extension": ".py",
   "mimetype": "text/x-python",
   "name": "python",
   "nbconvert_exporter": "python",
   "pygments_lexer": "ipython3",
   "version": "3.6.4"
  }
 },
 "nbformat": 4,
 "nbformat_minor": 2
}
