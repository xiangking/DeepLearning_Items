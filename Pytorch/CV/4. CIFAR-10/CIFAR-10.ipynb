{
 "cells": [
  {
   "cell_type": "code",
   "execution_count": 1,
   "metadata": {},
   "outputs": [],
   "source": [
    "%matplotlib inline\n",
    "\n",
    "# Author: Xiang Wang\n",
    "\n",
    "from __future__ import print_function, division\n",
    "\n",
    "import torch\n",
    "import torch.nn as nn\n",
    "import torch.optim as optim\n",
    "from torch.optim import lr_scheduler\n",
    "from torch.autograd import Variable\n",
    "import numpy as np\n",
    "import torchvision\n",
    "from torchvision import datasets, models, transforms, models\n",
    "import matplotlib.pyplot as plt\n",
    "import time\n",
    "import os\n",
    "import copy\n",
    "\n",
    "plt.ion()   # interactive mode"
   ]
  },
  {
   "cell_type": "markdown",
   "metadata": {},
   "source": [
    "## 一、文件夹结构设计和数据存放"
   ]
  },
  {
   "cell_type": "markdown",
   "metadata": {},
   "source": [
    "### 1. 建立存放数据的文件夹"
   ]
  },
  {
   "cell_type": "code",
   "execution_count": 49,
   "metadata": {},
   "outputs": [],
   "source": [
    "# shutil －一种高层次的文件操作工具，强大之处是在对文件的复制与删除操作支持比较好\n",
    "import os\n",
    "import shutil"
   ]
  },
  {
   "cell_type": "code",
   "execution_count": null,
   "metadata": {},
   "outputs": [],
   "source": [
    "# 建立data文件夹用于存放数据，train和val分别存放训练集和验证集\n",
    "# .mkdir的函数用于建立该路径下的文件夹\n",
    "os.mkdir('/Users/macbook/Documents/Programme/pytorch/Data/CIFAR-10/Data')\n",
    "os.mkdir('/Users/macbook/Documents/Programme/pytorch/Data/CIFAR-10/Data/train')\n",
    "os.mkdir('/Users/macbook/Documents/Programme/pytorch/Data/CIFAR-10/Data/val')"
   ]
  },
  {
   "cell_type": "code",
   "execution_count": 4,
   "metadata": {},
   "outputs": [],
   "source": [
    "# 得到id和label，以便以下面分割数据集\n",
    "import pandas as pd\n",
    "\n",
    "idLabel = pd.read_csv('/Users/macbook/Documents/Programme/pytorch/Data/CIFAR-10/zip/trainLabels.csv')"
   ]
  },
  {
   "cell_type": "code",
   "execution_count": null,
   "metadata": {},
   "outputs": [],
   "source": [
    "# 创建训练集分类的label的文件夹\n",
    "train_root = '/Users/macbook/Documents/Programme/pytorch/Data/CIFAR-10/Data/train'\n",
    "\n",
    "for label in idLabel.label.unique():\n",
    "    os.mkdir(os.path.join(train_root, label))"
   ]
  },
  {
   "cell_type": "code",
   "execution_count": null,
   "metadata": {},
   "outputs": [],
   "source": [
    "# 创建测试集分类的label的文件夹\n",
    "val_root = '/Users/macbook/Documents/Programme/pytorch/Data/CIFAR-10/Data/val'\n",
    "\n",
    "for label in idLabel.label.unique():\n",
    "    os.mkdir(os.path.join(val_root, label))"
   ]
  },
  {
   "cell_type": "markdown",
   "metadata": {},
   "source": [
    "### 2. 分割数据集并将其存入对应文件夹\n"
   ]
  },
  {
   "cell_type": "code",
   "execution_count": null,
   "metadata": {},
   "outputs": [],
   "source": [
    "# .listdir主要用于列出该路径下所有的文件的名称，以列表的形式得到\n",
    "# 这里的路径是下载下来的CIFAR-10的训练集数据存放的路径\n",
    "data_file = os.listdir('/Users/macbook/Documents/Programme/pytorch/Data/CIFAR-10/zip/train')"
   ]
  },
  {
   "cell_type": "code",
   "execution_count": null,
   "metadata": {},
   "outputs": [],
   "source": [
    "# 分割数据集\n",
    "import numpy as np\n",
    "idLabel_train = np.array(idLabel[['id','label']])[:48000]\n",
    "idLabel_val = np.array(idLabel[['id','label']])[48000:]"
   ]
  },
  {
   "cell_type": "code",
   "execution_count": null,
   "metadata": {},
   "outputs": [],
   "source": [
    "# 移动图片在训练集的相应位置\n",
    "root = '/Users/macbook/Documents/Programme/pytorch/Data/CIFAR-10/'\n",
    "\n",
    "for (id,label) in idLabel_train:\n",
    "    \n",
    "    pic_path = root + 'zip/train/' + str(id) + '.png'\n",
    "    \n",
    "    obj_path = train_root + '/' + str(label) + '/' + str(id) + '.png'\n",
    "    \n",
    "    shutil.copy(pic_path, obj_path)"
   ]
  },
  {
   "cell_type": "code",
   "execution_count": null,
   "metadata": {},
   "outputs": [],
   "source": [
    "# 移动图片到验证集的相应位置\n",
    "root = '/Users/macbook/Documents/Programme/pytorch/Data/CIFAR-10/'\n",
    "\n",
    "for (id,label) in idLabel_val:\n",
    "    \n",
    "    pic_path = root + 'zip/train/' + str(id) + '.png'\n",
    "    \n",
    "    obj_path = val_root + '/' + str(label) + '/' + str(id) + '.png'\n",
    "    \n",
    "    shutil.copy(pic_path, obj_path)"
   ]
  },
  {
   "cell_type": "markdown",
   "metadata": {},
   "source": [
    "## 二、数据处理与加载"
   ]
  },
  {
   "cell_type": "code",
   "execution_count": 12,
   "metadata": {},
   "outputs": [
    {
     "name": "stdout",
     "output_type": "stream",
     "text": [
      "==> Preparing data..\n"
     ]
    }
   ],
   "source": [
    "print('==> Preparing data..')\n",
    "\n",
    "data_transforms = {\n",
    "    'train': transforms.Compose([\n",
    "        transforms.RandomCrop(32, padding=4),\n",
    "        transforms.RandomHorizontalFlip(),\n",
    "        transforms.ToTensor(),\n",
    "        transforms.Normalize((0.4914, 0.4822, 0.4465), (0.2023, 0.1994, 0.2010))\n",
    "    ]),\n",
    "\n",
    "    'val': transforms.Compose([\n",
    "        transforms.RandomCrop(32, padding=4),\n",
    "        transforms.RandomHorizontalFlip(),\n",
    "        transforms.ToTensor(),\n",
    "        transforms.Normalize((0.4914, 0.4822, 0.4465), (0.2023, 0.1994, 0.2010))\n",
    "    ]),\n",
    "    'test': transforms.Compose([\n",
    "        transforms.RandomCrop(32, padding=4),\n",
    "        transforms.RandomHorizontalFlip(),\n",
    "        transforms.ToTensor(),\n",
    "        transforms.Normalize((0.4914, 0.4822, 0.4465), (0.2023, 0.1994, 0.2010))\n",
    "    ]),\n",
    "}\n"
   ]
  },
  {
   "cell_type": "code",
   "execution_count": 13,
   "metadata": {},
   "outputs": [],
   "source": [
    "data_dir = '/Users/macbook/Documents/Programme/pytorch/Data/CIFAR-10/Data/'\n",
    "\n",
    "image_datasets = {x: torchvision.datasets.ImageFolder(os.path.join(data_dir, x), data_transforms[x]) \n",
    "                  for x in ['train', 'val', 'test']}\n",
    "\n",
    "# 得到可batch的数据格式\n",
    "dataloaders = {x: torch.utils.data.DataLoader(image_datasets[x], batch_size=4,\n",
    "                                             shuffle=True, num_workers=1)\n",
    "               for x in ['train', 'val']}\n",
    "\n",
    "testdataloaders = {x: torch.utils.data.DataLoader(image_datasets[x], batch_size=4,\n",
    "                                             shuffle=False, num_workers=1)\n",
    "                   for x in ['test']}\n",
    "\n",
    "\n",
    "# 得到数据规模\n",
    "dataset_sizes = {x: len(image_datasets[x]) for x in ['train', 'val','test']}\n",
    "\n",
    "# 得到分类名\n",
    "class_names = image_datasets['train'].classes\n",
    "\n",
    "device = torch.device(\"cuda:0\" if torch.cuda.is_available() else \"cpu\")"
   ]
  },
  {
   "cell_type": "markdown",
   "metadata": {},
   "source": [
    "## 三、建立模型"
   ]
  },
  {
   "cell_type": "code",
   "execution_count": 69,
   "metadata": {},
   "outputs": [],
   "source": [
    "def alexNet_block(num_convs, in_channels, out_channels):\n",
    "    \n",
    "    net = [nn.Conv2d(in_channels, out_channels, kernel_size=5, stride=1, padding=0), nn.ReLU(True)]\n",
    "    \n",
    "    for i in range(num_convs-1):\n",
    "        net.append(nn.Conv2d(out_channels, out_channels, kernel_size=3, stride=1, padding=1))\n",
    "        net.append(nn.ReLU(True))\n",
    "    \n",
    "    net.append(nn.MaxPool2d(2,2))\n",
    "    net.append(nn.Conv2d(6, 16, kernel_size=5, stride=1, padding=0))\n",
    "    net.append(nn.MaxPool2d(kernel_size=2))\n",
    "\n",
    "    return nn.Sequential(*net)\n",
    "    "
   ]
  },
  {
   "cell_type": "code",
   "execution_count": 70,
   "metadata": {},
   "outputs": [
    {
     "name": "stdout",
     "output_type": "stream",
     "text": [
      "Sequential(\n",
      "  (0): Conv2d(3, 6, kernel_size=(5, 5), stride=(1, 1))\n",
      "  (1): ReLU(inplace)\n",
      "  (2): MaxPool2d(kernel_size=2, stride=2, padding=0, dilation=1, ceil_mode=False)\n",
      "  (3): Conv2d(6, 16, kernel_size=(5, 5), stride=(1, 1))\n",
      "  (4): MaxPool2d(kernel_size=2, stride=2, padding=0, dilation=1, ceil_mode=False)\n",
      ")\n"
     ]
    }
   ],
   "source": [
    "block_demo = alexNet_block(1, 3,6)\n",
    "print(block_demo)"
   ]
  },
  {
   "cell_type": "code",
   "execution_count": 71,
   "metadata": {},
   "outputs": [
    {
     "name": "stdout",
     "output_type": "stream",
     "text": [
      "torch.Size([1, 16, 5, 5])\n"
     ]
    },
    {
     "data": {
      "text/plain": [
       "torch.Size([1, 400])"
      ]
     },
     "execution_count": 71,
     "metadata": {},
     "output_type": "execute_result"
    }
   ],
   "source": [
    "input_demo = Variable(torch.zeros(1, 3, 32, 32))\n",
    "output_demo = block_demo(input_demo)\n",
    "print(output_demo.shape)\n",
    "np.shape(output_demo.view(output_demo.shape[0], -1))"
   ]
  },
  {
   "cell_type": "code",
   "execution_count": 169,
   "metadata": {},
   "outputs": [],
   "source": [
    "class basicCNN(nn.Module):\n",
    "    \n",
    "    def __init__(self, num_classes=10):\n",
    "        super(basicCNN, self).__init__()\n",
    "        \n",
    "        self.model_name = 'alexnet'\n",
    "        \n",
    "        self.features = nn.Sequential(\n",
    "            nn.Conv2d(3, 6, kernel_size=5, stride=1),\n",
    "            nn.ReLU(inplace=True),\n",
    "            nn.MaxPool2d(kernel_size=2),\n",
    "            \n",
    "            nn.Conv2d(6, 16, kernel_size=5, stride=1),\n",
    "            nn.ReLU(inplace=True),\n",
    "            nn.MaxPool2d(kernel_size=2),\n",
    "        )\n",
    "        \n",
    "        \n",
    "        self.fc = nn.Sequential(\n",
    "            nn.Dropout(),\n",
    "            nn.Linear(16 * 5 * 5, 120),\n",
    "            nn.ReLU(inplace=True),\n",
    "\n",
    "            nn.Dropout(),\n",
    "            nn.Linear(120, 84),\n",
    "            nn.ReLU(inplace=True),\n",
    "\n",
    "            nn.Linear(84, num_classes),\n",
    "        )\n",
    "\n",
    "    def forward(self, x):\n",
    "        x = self.features(x)\n",
    "        x = x.view(x.shape[0], -1)\n",
    "\n",
    "        x = self.fc(x)\n",
    "        return x"
   ]
  },
  {
   "cell_type": "code",
   "execution_count": 170,
   "metadata": {
    "scrolled": true
   },
   "outputs": [],
   "source": [
    "model_ft = basicCNN()"
   ]
  },
  {
   "cell_type": "markdown",
   "metadata": {},
   "source": [
    "## 四、设置必要的参数"
   ]
  },
  {
   "cell_type": "code",
   "execution_count": 154,
   "metadata": {},
   "outputs": [],
   "source": [
    "# 设置为GPU处理\n",
    "model_ft = model_ft.to(device)\n",
    "\n",
    "# 设置损失函数\n",
    "criterion = nn.CrossEntropyLoss()\n",
    "# 设置优化算法\n",
    "optimizer_ft = optim.SGD(model_ft.parameters(), lr=0.001, momentum=0.9)\n",
    "\n",
    "# Decay LR by a factor of 0.1 every 7 epochs\n",
    "exp_lr_scheduler = lr_scheduler.StepLR(optimizer_ft, step_size=7, gamma=0.1)"
   ]
  },
  {
   "cell_type": "markdown",
   "metadata": {},
   "source": [
    "## 五、训练阶段"
   ]
  },
  {
   "cell_type": "code",
   "execution_count": 171,
   "metadata": {},
   "outputs": [],
   "source": [
    "def train_model(model, criterion, optimizer, scheduler, num_epochs=25):\n",
    "    since = time.time()\n",
    "    \n",
    "    # static_dict()用于返回包含模块所有状态的字典，包括参数和缓存。键是参数名称或者缓存名称。\n",
    "    best_model_wts = copy.deepcopy(model.state_dict())\n",
    "    best_acc = 0.0\n",
    "\n",
    "    for epoch in range(num_epochs):\n",
    "        print('Epoch {}/{}'.format(epoch, num_epochs - 1))\n",
    "        print('-' * 10)\n",
    "\n",
    "        # Each epoch has a training and validation phase\n",
    "        for phase in ['train', 'val']:\n",
    "            if phase == 'train':\n",
    "                scheduler.step()\n",
    "                model.train()  # Set model to training mode\n",
    "            else:\n",
    "                model.eval()   # Set model to evaluate mode\n",
    "\n",
    "            running_loss = 0.0\n",
    "            running_corrects = 0\n",
    "\n",
    "            # 加入一个batch，将得到的数据放置到制定的设备上（GPU或者CPU）\n",
    "            for inputs, labels in dataloaders[phase]:\n",
    "                inputs = inputs\n",
    "                labels = labels\n",
    "\n",
    "                # 清空梯度\n",
    "                optimizer.zero_grad()\n",
    "\n",
    "                # forward\n",
    "                # track history if only in train\n",
    "                with torch.set_grad_enabled(phase == 'train'):\n",
    "                    outputs = model(inputs)\n",
    "                    _, preds = torch.max(outputs, 1)\n",
    "                    loss = criterion(outputs, labels)\n",
    "\n",
    "                    # backward + optimize only if in training phase\n",
    "                    if phase == 'train':\n",
    "                        loss.backward()\n",
    "                        optimizer.step()\n",
    "\n",
    "                # statistics\n",
    "                # 以前是使用.data[0]来得到loss，不过官方推荐使用item来转化这里数据\n",
    "                running_loss += loss.item() * inputs.size(0)\n",
    "                running_corrects += torch.sum(preds == labels.data)\n",
    "\n",
    "            epoch_loss = running_loss / dataset_sizes[phase]\n",
    "            epoch_acc = running_corrects.double() / dataset_sizes[phase]\n",
    "\n",
    "            print('{} Loss: {:.4f} Acc: {:.4f}'.format(\n",
    "                phase, epoch_loss, epoch_acc))\n",
    "\n",
    "            # deep copy the model\n",
    "            if phase == 'val' and epoch_acc > best_acc:\n",
    "                best_acc = epoch_acc\n",
    "                best_model_wts = copy.deepcopy(model.state_dict())\n",
    "\n",
    "        print()\n",
    "\n",
    "    time_elapsed = time.time() - since\n",
    "    print('Training complete in {:.0f}m {:.0f}s'.format(\n",
    "        time_elapsed // 60, time_elapsed % 60))\n",
    "    print('Best val Acc: {:4f}'.format(best_acc))\n",
    "\n",
    "    # load best model weights\n",
    "    model.load_state_dict(best_model_wts)\n",
    "    return model"
   ]
  },
  {
   "cell_type": "code",
   "execution_count": 173,
   "metadata": {},
   "outputs": [
    {
     "name": "stdout",
     "output_type": "stream",
     "text": [
      "Epoch 0/1\n",
      "----------\n",
      "train Loss: 2.3093 Acc: 0.0973\n",
      "val Loss: 2.3100 Acc: 0.0820\n",
      "\n",
      "Epoch 1/1\n",
      "----------\n",
      "train Loss: 2.3092 Acc: 0.0975\n",
      "val Loss: 2.3107 Acc: 0.0820\n",
      "\n",
      "Training complete in 2m 34s\n",
      "Best val Acc: 0.082000\n"
     ]
    }
   ],
   "source": [
    "model_ft = train_model(model_ft, criterion, optimizer_ft, exp_lr_scheduler,num_epochs=2)"
   ]
  }
 ],
 "metadata": {
  "kernelspec": {
   "display_name": "Python 3",
   "language": "python",
   "name": "python3"
  },
  "language_info": {
   "codemirror_mode": {
    "name": "ipython",
    "version": 3
   },
   "file_extension": ".py",
   "mimetype": "text/x-python",
   "name": "python",
   "nbconvert_exporter": "python",
   "pygments_lexer": "ipython3",
   "version": "3.6.5"
  }
 },
 "nbformat": 4,
 "nbformat_minor": 2
}
