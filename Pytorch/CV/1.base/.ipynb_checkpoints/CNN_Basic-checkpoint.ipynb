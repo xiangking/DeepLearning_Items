{
 "cells": [
  {
   "cell_type": "markdown",
   "metadata": {},
   "source": [
    "本部分主要用于CNN的基础细节学习"
   ]
  },
  {
   "cell_type": "code",
   "execution_count": 1,
   "metadata": {},
   "outputs": [],
   "source": [
    "import numpy as np\n",
    "import torch\n",
    "from torch import nn, autograd\n",
    "from torch.autograd import Variable\n",
    "import torch.nn.functional as F\n",
    "from PIL import Image\n",
    "import matplotlib.pyplot as plt\n",
    "%matplotlib inline"
   ]
  },
  {
   "cell_type": "markdown",
   "metadata": {},
   "source": [
    "### 准备数据集"
   ]
  },
  {
   "cell_type": "code",
   "execution_count": 7,
   "metadata": {
    "scrolled": true
   },
   "outputs": [
    {
     "name": "stdout",
     "output_type": "stream",
     "text": [
      "tensor([[[[ 1.,  1.,  1.,  1.,  1.],\n",
      "          [ 1.,  1.,  1.,  1.,  1.],\n",
      "          [ 1.,  1.,  1.,  1.,  1.],\n",
      "          [ 1.,  1.,  1.,  1.,  1.],\n",
      "          [ 1.,  1.,  1.,  1.,  1.]],\n",
      "\n",
      "         [[ 1.,  1.,  1.,  1.,  1.],\n",
      "          [ 1.,  1.,  1.,  1.,  1.],\n",
      "          [ 1.,  1.,  1.,  1.,  1.],\n",
      "          [ 1.,  1.,  1.,  1.,  1.],\n",
      "          [ 1.,  1.,  1.,  1.,  1.]],\n",
      "\n",
      "         [[ 1.,  1.,  1.,  1.,  1.],\n",
      "          [ 1.,  1.,  1.,  1.,  1.],\n",
      "          [ 1.,  1.,  1.,  1.,  1.],\n",
      "          [ 1.,  1.,  1.,  1.,  1.],\n",
      "          [ 1.,  1.,  1.,  1.,  1.]]]])\n"
     ]
    },
    {
     "data": {
      "text/plain": [
       "torch.Size([1, 3, 5, 5])"
      ]
     },
     "execution_count": 7,
     "metadata": {},
     "output_type": "execute_result"
    }
   ],
   "source": [
    "input = autograd.Variable(torch.ones(1, 3, 5, 5))\n",
    "print(input)\n",
    "np.shape(input)"
   ]
  },
  {
   "cell_type": "markdown",
   "metadata": {},
   "source": [
    "### 1. class torch.nn.Conv2d(in_channels, out_channels, kernel_size, stride=1, padding=0, dilation=1, groups=1, bias=True)"
   ]
  },
  {
   "cell_type": "code",
   "execution_count": 188,
   "metadata": {},
   "outputs": [],
   "source": [
    "# With square kernels and equal stride\n",
    "CNN= nn.Conv2d(in_channels=3, out_channels=2, kernel_size=3, stride=1, padding=0, bias=False, dilation=2)"
   ]
  },
  {
   "cell_type": "markdown",
   "metadata": {},
   "source": [
    "<b>输出的计算公式：\n",
    "$$H{out}=floor((H_{in}+2padding[0]-dilation[0](kernerl_size[0]-1)-1)/stride[0]+1)$$\n"
   ]
  },
  {
   "cell_type": "code",
   "execution_count": 146,
   "metadata": {},
   "outputs": [],
   "source": [
    "# 为了直观，我们直接先设置卷积和，在实际使用时它是先随机初始化，然后再通过反向来得到\n",
    "CNN_W = np.array([[[1, 1, 1], [1, 1, 1], [1, 1, 1]],[[1, 1, 1], [1, 1, 1], [1, 1, 1]]], dtype='float32') \n",
    "# CNN的权值也是张量形式\n",
    "CNN_W = CNN_W.reshape((1, 2, 3, 3))\n",
    "CNN.weight.data = torch.from_numpy(CNN_W)"
   ]
  },
  {
   "cell_type": "code",
   "execution_count": 187,
   "metadata": {},
   "outputs": [
    {
     "name": "stdout",
     "output_type": "stream",
     "text": [
      "tensor([[[[ 0.0839, -0.0682, -0.1298],\n",
      "          [-0.0257,  0.0322, -0.1459],\n",
      "          [-0.0680, -0.0595,  0.0820]],\n",
      "\n",
      "         [[-0.0250,  0.0150,  0.1465],\n",
      "          [-0.1474, -0.0229, -0.0385],\n",
      "          [-0.0532,  0.0960,  0.1562]],\n",
      "\n",
      "         [[ 0.0731,  0.1518,  0.0946],\n",
      "          [ 0.0459, -0.0419,  0.1296],\n",
      "          [ 0.1224, -0.0350, -0.0796]]]])\n",
      "tensor([[[[ 0.2888]]]])\n"
     ]
    },
    {
     "data": {
      "text/plain": [
       "torch.Size([1, 1, 1, 1])"
      ]
     },
     "execution_count": 187,
     "metadata": {},
     "output_type": "execute_result"
    }
   ],
   "source": [
    "print(CNN.weight.data)\n",
    "print(CNN(input))\n",
    "np.shape(CNN(input))"
   ]
  },
  {
   "cell_type": "code",
   "execution_count": 189,
   "metadata": {
    "scrolled": true
   },
   "outputs": [
    {
     "name": "stdout",
     "output_type": "stream",
     "text": [
      "tensor([[[[-0.1516,  0.1522,  0.0054],\n",
      "          [-0.1625, -0.0725, -0.1817],\n",
      "          [ 0.1798, -0.1333, -0.0618]],\n",
      "\n",
      "         [[ 0.0019,  0.1470,  0.0719],\n",
      "          [ 0.0170, -0.1053,  0.1142],\n",
      "          [-0.0146, -0.0744,  0.1494]],\n",
      "\n",
      "         [[ 0.0723, -0.1552, -0.0348],\n",
      "          [ 0.0704,  0.0127,  0.1813],\n",
      "          [-0.0717, -0.0794, -0.0781]]],\n",
      "\n",
      "\n",
      "        [[[-0.1361,  0.0002, -0.0315],\n",
      "          [ 0.1155, -0.1792,  0.1014],\n",
      "          [-0.0468,  0.0723,  0.1005]],\n",
      "\n",
      "         [[-0.1040,  0.0871,  0.1055],\n",
      "          [ 0.1067,  0.0214,  0.0585],\n",
      "          [-0.1650,  0.0071, -0.1383]],\n",
      "\n",
      "         [[-0.1843,  0.1049, -0.0743],\n",
      "          [-0.0026, -0.0811, -0.0346],\n",
      "          [ 0.0749,  0.1111,  0.0536]]]])\n",
      "tensor([[[[-0.2015]],\n",
      "\n",
      "         [[-0.0571]]]])\n"
     ]
    },
    {
     "data": {
      "text/plain": [
       "torch.Size([1, 2, 1, 1])"
      ]
     },
     "execution_count": 189,
     "metadata": {},
     "output_type": "execute_result"
    }
   ],
   "source": [
    "print(CNN.weight.data)\n",
    "print(CNN(input))\n",
    "np.shape(CNN(input))"
   ]
  },
  {
   "cell_type": "markdown",
   "metadata": {},
   "source": [
    "### 2. class torch.nn.MaxPool2d(kernel_size, stride=None, padding=0, dilation=1, return_indices=False, ceil_mode=False)"
   ]
  },
  {
   "cell_type": "markdown",
   "metadata": {},
   "source": [
    "\n",
    "$$H{out}=floor((H_{in} + 2padding[0] - dilation[0](kernel_size[0] - 1) - 1)/stride[0] + 1$$\n",
    "\n",
    "$$W{out}=floor((W{in} + 2padding[1] - dilation[1](kernel_size[1] - 1) - 1)/stride[1] + 1$$"
   ]
  },
  {
   "cell_type": "code",
   "execution_count": 10,
   "metadata": {},
   "outputs": [
    {
     "name": "stdout",
     "output_type": "stream",
     "text": [
      "torch.Size([1, 3, 5, 5])\n",
      "torch.Size([1, 3, 3, 3])\n"
     ]
    },
    {
     "data": {
      "text/plain": [
       "tensor([[[[ 1.,  1.,  1.],\n",
       "          [ 1.,  1.,  1.],\n",
       "          [ 1.,  1.,  1.]],\n",
       "\n",
       "         [[ 1.,  1.,  1.],\n",
       "          [ 1.,  1.,  1.],\n",
       "          [ 1.,  1.,  1.]],\n",
       "\n",
       "         [[ 1.,  1.,  1.],\n",
       "          [ 1.,  1.,  1.],\n",
       "          [ 1.,  1.,  1.]]]])"
      ]
     },
     "execution_count": 10,
     "metadata": {},
     "output_type": "execute_result"
    }
   ],
   "source": [
    "# pool of square window of size=3, stride=2\n",
    "m = nn.MaxPool2d(3, stride=1)\n",
    "output = m(input)\n",
    "print(input.shape)\n",
    "print(output.shape)\n",
    "output"
   ]
  }
 ],
 "metadata": {
  "kernelspec": {
   "display_name": "Python 3",
   "language": "python",
   "name": "python3"
  },
  "language_info": {
   "codemirror_mode": {
    "name": "ipython",
    "version": 3
   },
   "file_extension": ".py",
   "mimetype": "text/x-python",
   "name": "python",
   "nbconvert_exporter": "python",
   "pygments_lexer": "ipython3",
   "version": "3.6.2"
  }
 },
 "nbformat": 4,
 "nbformat_minor": 2
}
