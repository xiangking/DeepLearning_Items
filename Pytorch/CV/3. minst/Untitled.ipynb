{
 "cells": [
  {
   "cell_type": "code",
   "execution_count": 4,
   "metadata": {},
   "outputs": [],
   "source": [
    "import torch\n",
    "import torch.nn as nn\n",
    "import torchvision.datasets as dsets\n",
    "import torchvision.transforms as transforms\n",
    "from torch.autograd import Variable"
   ]
  },
  {
   "cell_type": "code",
   "execution_count": 5,
   "metadata": {},
   "outputs": [],
   "source": [
    "# hyper parameter\n",
    "input_size = 28 * 28 # image size of MNIST data\n",
    "num_classes = 10\n",
    "num_epochs = 10\n",
    "batch_size = 100\n",
    "learning_rate = 1e-3"
   ]
  },
  {
   "cell_type": "code",
   "execution_count": 6,
   "metadata": {},
   "outputs": [
    {
     "name": "stdout",
     "output_type": "stream",
     "text": [
      "Downloading http://yann.lecun.com/exdb/mnist/train-images-idx3-ubyte.gz\n",
      "Downloading http://yann.lecun.com/exdb/mnist/train-labels-idx1-ubyte.gz\n",
      "Downloading http://yann.lecun.com/exdb/mnist/t10k-images-idx3-ubyte.gz\n",
      "Downloading http://yann.lecun.com/exdb/mnist/t10k-labels-idx1-ubyte.gz\n",
      "Processing...\n",
      "Done!\n"
     ]
    }
   ],
   "source": [
    "# MNIST dataset\n",
    "train_dataset = dsets.MNIST(root = '/Users/macbook/Documents/Programme/pytorch/Data/Mnist ', #选择数据的根目录\n",
    "                           train = True, # 选择训练集\n",
    "                           transform = transforms.ToTensor(), #转换成tensor变量\n",
    "                           download = True) # 不从网络上download图片\n",
    "test_dataset = dsets.MNIST(root = '/Users/macbook/Documents/Programme/pytorch/Data/Mnist ', #选择数据的根目录\n",
    "                           train = False, # 选择训练集\n",
    "                           transform = transforms.ToTensor(), #转换成tensor变量\n",
    "                           download = True) # 不从网络上download图片\n"
   ]
  },
  {
   "cell_type": "code",
   "execution_count": 8,
   "metadata": {},
   "outputs": [],
   "source": [
    "#加载数据\n",
    "train_loader = torch.utils.data.DataLoader(dataset = train_dataset, batch_size = batch_size, shuffle = True)  # 将数据打乱\n",
    "\n",
    "test_loader = torch.utils.data.DataLoader(dataset = test_dataset, batch_size = batch_size, shuffle = True)"
   ]
  },
  {
   "cell_type": "code",
   "execution_count": 9,
   "metadata": {},
   "outputs": [
    {
     "name": "stdout",
     "output_type": "stream",
     "text": [
      "neural_net(\n",
      "  (fc1): Linear(in_features=784, out_features=100, bias=True)\n",
      "  (relu): ReLU()\n",
      "  (fc2): Linear(in_features=100, out_features=10, bias=True)\n",
      ")\n"
     ]
    }
   ],
   "source": [
    "#input_size = 2\n",
    "hidden_size = 100\n",
    "#num_classes = 3\n",
    "\n",
    "# 创建神经网络模型\n",
    "class neural_net(nn.Module):\n",
    "    def __init__(self, input_num,hidden_size, out_put):\n",
    "        super(neural_net, self).__init__()\n",
    "        self.fc1 = nn.Linear(input_num, hidden_size)\n",
    "        self.relu = nn.ReLU()\n",
    "        self.fc2 = nn.Linear(hidden_size, out_put)\n",
    "\n",
    "    def forward(self, x):\n",
    "        out = self.fc1(x)\n",
    "        out = self.relu(out)\n",
    "        out = self.fc2(out)\n",
    "        return out\n",
    "\n",
    "model = neural_net(input_size, hidden_size, num_classes)\n",
    "print(model)"
   ]
  },
  {
   "cell_type": "code",
   "execution_count": 10,
   "metadata": {
    "scrolled": true
   },
   "outputs": [
    {
     "name": "stdout",
     "output_type": "stream",
     "text": [
      "current epoch = 0\n"
     ]
    },
    {
     "name": "stderr",
     "output_type": "stream",
     "text": [
      "/Users/macbook/anaconda3/lib/python3.6/site-packages/ipykernel_launcher.py:34: UserWarning: invalid index of a 0-dim tensor. This will be an error in PyTorch 0.5. Use tensor.item() to convert a 0-dim tensor to a Python number\n"
     ]
    },
    {
     "name": "stdout",
     "output_type": "stream",
     "text": [
      "current loss = 2.30338\n",
      "current loss = 0.35200\n",
      "current loss = 0.28127\n",
      "current loss = 0.30987\n",
      "current loss = 0.34055\n",
      "current loss = 0.22123\n",
      "current epoch = 1\n",
      "current loss = 0.27865\n",
      "current loss = 0.17143\n",
      "current loss = 0.33734\n",
      "current loss = 0.13760\n",
      "current loss = 0.20712\n",
      "current loss = 0.15807\n",
      "current epoch = 2\n",
      "current loss = 0.37446\n",
      "current loss = 0.09010\n",
      "current loss = 0.10322\n",
      "current loss = 0.11777\n",
      "current loss = 0.19931\n",
      "current loss = 0.08411\n",
      "current epoch = 3\n",
      "current loss = 0.11892\n",
      "current loss = 0.13711\n",
      "current loss = 0.06706\n",
      "current loss = 0.15086\n",
      "current loss = 0.12371\n",
      "current loss = 0.18483\n",
      "current epoch = 4\n",
      "current loss = 0.06356\n",
      "current loss = 0.04733\n",
      "current loss = 0.15089\n",
      "current loss = 0.02418\n",
      "current loss = 0.09737\n",
      "current loss = 0.14146\n"
     ]
    }
   ],
   "source": [
    "# optimization\n",
    "learning_rate = 1e-3\n",
    "num_epoches = 5\n",
    "criterion = nn.CrossEntropyLoss()\n",
    "optimizer = torch.optim.Adam(model.parameters(), lr = learning_rate)\n",
    "\n",
    "for epoch in range(num_epoches):\n",
    "\n",
    "    #inputs = Variable(torch.from_numpy(train_x))\n",
    "    #targets = Variable(torch.from_numpy(train_y))\n",
    "\n",
    "    #print(inputs)\n",
    "    #print(targets)\n",
    "\n",
    "    #optimizer.zero_grad()\n",
    "    #outputs = model(inputs)\n",
    "    #loss = criterion(outputs, targets)\n",
    "    #loss.backward()\n",
    "    #optimizer.step()\n",
    "\n",
    "    #print('current loss = %.5f' % loss.data[0])\n",
    "    print('current epoch = %d' % epoch)\n",
    "    for i, (images, labels) in enumerate(train_loader): #利用enumerate取出一个可迭代对象的内容\n",
    "        images = Variable(images.view(-1, 28 * 28))\n",
    "        labels = Variable(labels)\n",
    "\n",
    "        optimizer.zero_grad()\n",
    "        outputs = model(images)\n",
    "        loss = criterion(outputs, labels)\n",
    "        loss.backward()\n",
    "        optimizer.step()\n",
    "\n",
    "        if i % 100 == 0:\n",
    "            print('current loss = %.5f' % loss.data[0])"
   ]
  },
  {
   "cell_type": "code",
   "execution_count": 11,
   "metadata": {},
   "outputs": [
    {
     "name": "stdout",
     "output_type": "stream",
     "text": [
      "Accuracy = 97.00\n"
     ]
    }
   ],
   "source": [
    "# 做 prediction\n",
    "total = 0\n",
    "correct = 0\n",
    "\n",
    "for images, labels in test_loader:\n",
    "\n",
    "    images = Variable(images.view(-1, 28 * 28))\n",
    "    outputs = model(images)\n",
    "\n",
    "    _, predicts = torch.max(outputs.data, 1)\n",
    "    total += labels.size(0)\n",
    "    correct += (predicts == labels).sum()\n",
    "\n",
    "print('Accuracy = %.2f' % (100 * correct / total))"
   ]
  },
  {
   "cell_type": "code",
   "execution_count": null,
   "metadata": {},
   "outputs": [],
   "source": []
  },
  {
   "cell_type": "code",
   "execution_count": null,
   "metadata": {},
   "outputs": [],
   "source": []
  },
  {
   "cell_type": "code",
   "execution_count": 12,
   "metadata": {},
   "outputs": [],
   "source": [
    "# shutil －一种高层次的文件操作工具，强大之处是在对文件的复制与删除操作支持比较好\n",
    "import os\n",
    "import shutil"
   ]
  },
  {
   "cell_type": "code",
   "execution_count": 13,
   "metadata": {},
   "outputs": [],
   "source": [
    "# 建立data文件夹用于存放数据，train和val分别存放训练集和验证集\n",
    "# .mkdir的函数用于建立该路径下的文件夹\n",
    "os.mkdir('/Users/macbook/Documents/Programme/pytorch/Data/CIFAR-10/Data')\n",
    "os.mkdir('/Users/macbook/Documents/Programme/pytorch/Data/CIFAR-10/Data/train')\n",
    "os.mkdir('/Users/macbook/Documents/Programme/pytorch/Data/CIFAR-10/Data/val')"
   ]
  },
  {
   "cell_type": "code",
   "execution_count": 14,
   "metadata": {},
   "outputs": [],
   "source": [
    "import pandas as pd"
   ]
  },
  {
   "cell_type": "code",
   "execution_count": 16,
   "metadata": {},
   "outputs": [],
   "source": [
    "idLabel = pd.read_csv('/Users/macbook/Documents/Programme/pytorch/Data/CIFAR-10/trainLabels.csv')"
   ]
  },
  {
   "cell_type": "code",
   "execution_count": 58,
   "metadata": {},
   "outputs": [],
   "source": [
    "train_root = '/Users/macbook/Documents/Programme/pytorch/Data/CIFAR-10/Data/train'\n",
    "\n",
    "for label in idLabel.label.unique():\n",
    "    os.mkdir(os.path.join(train_root, label))"
   ]
  },
  {
   "cell_type": "code",
   "execution_count": 56,
   "metadata": {},
   "outputs": [],
   "source": [
    "val_root = '/Users/macbook/Documents/Programme/pytorch/Data/CIFAR-10/Data/val'\n",
    "\n",
    "for label in idLabel.label.unique():\n",
    "    os.mkdir(os.path.join(val_root, label))"
   ]
  },
  {
   "cell_type": "code",
   "execution_count": 24,
   "metadata": {},
   "outputs": [],
   "source": [
    "# .listdir主要用于列出该路径下所有的文件的名称，以列表的形式得到\n",
    "# 这里的路径是# 下载下来的猫狗大战的训练集数据存放的路径\n",
    "data_file = os.listdir('/Users/macbook/Documents/Programme/pytorch/Data/CIFAR-10/zip/train')"
   ]
  },
  {
   "cell_type": "code",
   "execution_count": 47,
   "metadata": {},
   "outputs": [],
   "source": [
    "import numpy as np\n",
    "idLabel_train = np.array(idLabel[['id','label']])[:48000]\n",
    "idLabel_val = np.array(idLabel[['id','label']])[48000:]"
   ]
  },
  {
   "cell_type": "code",
   "execution_count": 59,
   "metadata": {},
   "outputs": [],
   "source": [
    "# 分割小狗的数据集，如果i < len(dog_file)*0.9，那么就将其放到用来存放数据集的文件夹下的训练集的小狗文件夹中\n",
    "# 否则便存放在验证集\n",
    "root = '/Users/macbook/Documents/Programme/pytorch/Data/CIFAR-10/'\n",
    "\n",
    "for (id,label) in idLabel_train:\n",
    "    \n",
    "    pic_path = root + 'zip/train/' + str(id) + '.png'\n",
    "    \n",
    "    obj_path = train_root + '/' + str(label) + '/' + str(id) + '.png'\n",
    "    \n",
    "    shutil.copy(pic_path, obj_path)"
   ]
  },
  {
   "cell_type": "code",
   "execution_count": 60,
   "metadata": {},
   "outputs": [],
   "source": [
    "# 分割小狗的数据集，如果i < len(dog_file)*0.9，那么就将其放到用来存放数据集的文件夹下的训练集的小狗文件夹中\n",
    "# 否则便存放在验证集\n",
    "root = '/Users/macbook/Documents/Programme/pytorch/Data/CIFAR-10/'\n",
    "\n",
    "for (id,label) in idLabel_val:\n",
    "    \n",
    "    pic_path = root + 'zip/train/' + str(id) + '.png'\n",
    "    \n",
    "    obj_path = val_root + '/' + str(label) + '/' + str(id) + '.png'\n",
    "    \n",
    "    shutil.copy(pic_path, obj_path)"
   ]
  },
  {
   "cell_type": "code",
   "execution_count": 64,
   "metadata": {},
   "outputs": [],
   "source": [
    "%matplotlib inline\n",
    "\n",
    "# License: BSD\n",
    "# Author: Sasank Chilamkurthy\n",
    "\n",
    "from __future__ import print_function, division\n",
    "\n",
    "import torch\n",
    "import torch.nn as nn\n",
    "import torch.optim as optim\n",
    "from torch.optim import lr_scheduler\n",
    "import numpy as np\n",
    "import torchvision\n",
    "from torchvision import datasets, models, transforms\n",
    "import matplotlib.pyplot as plt\n",
    "import time\n",
    "import os\n",
    "import copy\n",
    "\n",
    "plt.ion()   # interactive mode"
   ]
  },
  {
   "cell_type": "code",
   "execution_count": 77,
   "metadata": {},
   "outputs": [],
   "source": [
    "transform = transforms.Compose(\n",
    "    [\n",
    "        transforms.ToTensor()\n",
    "    ]\n",
    ")\n",
    "\n",
    "image_datasets = {x: torchvision.datasets.ImageFolder(os.path.join('/Users/macbook/Documents/Programme/pytorch/Data/CIFAR-10/Data/', x), transform) \n",
    "                  for x in ['train', 'val']}"
   ]
  },
  {
   "cell_type": "code",
   "execution_count": 78,
   "metadata": {},
   "outputs": [
    {
     "data": {
      "text/plain": [
       "{'train': Dataset ImageFolder\n",
       "     Number of datapoints: 48000\n",
       "     Root Location: /Users/macbook/Documents/Programme/pytorch/Data/CIFAR-10/Data/train\n",
       "     Transforms (if any): Compose(\n",
       "                              ToTensor()\n",
       "                          )\n",
       "     Target Transforms (if any): None, 'val': Dataset ImageFolder\n",
       "     Number of datapoints: 2000\n",
       "     Root Location: /Users/macbook/Documents/Programme/pytorch/Data/CIFAR-10/Data/val\n",
       "     Transforms (if any): Compose(\n",
       "                              ToTensor()\n",
       "                          )\n",
       "     Target Transforms (if any): None}"
      ]
     },
     "execution_count": 78,
     "metadata": {},
     "output_type": "execute_result"
    }
   ],
   "source": [
    "image_datasets"
   ]
  },
  {
   "cell_type": "code",
   "execution_count": 79,
   "metadata": {},
   "outputs": [],
   "source": [
    "# 得到可batch的数据格式\n",
    "dataloaders = {x: torch.utils.data.DataLoader(image_datasets[x], batch_size=4,\n",
    "                                             shuffle=True, num_workers=4)\n",
    "              for x in ['train', 'val']}"
   ]
  },
  {
   "cell_type": "code",
   "execution_count": 80,
   "metadata": {},
   "outputs": [],
   "source": [
    "# 得到分类\n",
    "class_names = image_datasets['train'].classes"
   ]
  },
  {
   "cell_type": "code",
   "execution_count": 82,
   "metadata": {
    "scrolled": true
   },
   "outputs": [
    {
     "name": "stdout",
     "output_type": "stream",
     "text": [
      "tensor([ 5,  5,  9,  6])\n"
     ]
    },
    {
     "data": {
      "image/png": "[encoded data removed]",
      "text/plain": [
       "<matplotlib.figure.Figure at 0x10c1234e0>"
      ]
     },
     "metadata": {},
     "output_type": "display_data"
    },
    {
     "name": "stdout",
     "output_type": "stream",
     "text": [
      "tensor([ 8,  8,  0,  2])\n"
     ]
    },
    {
     "data": {
      "image/png": "[encoded data removed]",
      "text/plain": [
       "<matplotlib.figure.Figure at 0x12544ba20>"
      ]
     },
     "metadata": {},
     "output_type": "display_data"
    },
    {
     "name": "stdout",
     "output_type": "stream",
     "text": [
      "tensor([ 0,  0,  3,  9])\n"
     ]
    },
    {
     "data": {
      "image/png": "[encoded data removed]",
      "text/plain": [
       "<matplotlib.figure.Figure at 0x10c095240>"
      ]
     },
     "metadata": {},
     "output_type": "display_data"
    }
   ],
   "source": [
    "def imshow(inp, title=None):\n",
    "    \"\"\"Imshow for Tensor.\"\"\"\n",
    "    inp = inp.numpy().transpose((1, 2, 0))\n",
    "    plt.imshow(inp)\n",
    "\n",
    "\n",
    "\n",
    "# Get a batch of training data\n",
    "next(iter(dataloaders['train']))\n",
    "# inputs, classes = next(iter(dataloaders['train']))\n",
    "\n",
    "# # Make a grid from batch\n",
    "# out = torchvision.utils.make_grid(inputs)\n",
    "\n",
    "# imshow(out, title=[class_names[x] for x in classes])\n",
    "\n",
    "to_pil_image = transforms.ToPILImage()\n",
    "cnt = 0\n",
    "for image,label in dataloaders['val']:\n",
    "    if cnt>=3:      # 只显示3张图片\n",
    "        break\n",
    "    print(label)    # 显示label\n",
    "\n",
    "    # 方法1：Image.show()\n",
    "    # transforms.ToPILImage()中有一句\n",
    "    # npimg = np.transpose(pic.numpy(), (1, 2, 0))\n",
    "    # 因此pic只能是3-D Tensor，所以要用image[0]消去batch那一维\n",
    "    img = to_pil_image(image[0])\n",
    "    img.show()\n",
    "\n",
    "    # 方法2：plt.imshow(ndarray)\n",
    "    img = image[0]      # plt.imshow()只能接受3-D Tensor，所以也要用image[0]消去batch那一维\n",
    "    img = img.numpy()   # FloatTensor转为ndarray\n",
    "    img = np.transpose(img, (1,2,0))    # 把channel那一维放到最后\n",
    "\n",
    "    # 显示图片\n",
    "    plt.imshow(img)\n",
    "    plt.show()\n",
    "\n",
    "    cnt += 1"
   ]
  },
  {
   "cell_type": "code",
   "execution_count": null,
   "metadata": {},
   "outputs": [],
   "source": [
    "to_pil_image = transforms.ToPILImage()\n",
    "cnt = 0\n",
    "for image,label in data_loader:\n",
    "    if cnt>=3:      # 只显示3张图片\n",
    "        break\n",
    "    print(label)    # 显示label\n",
    "\n",
    "    # 方法1：Image.show()\n",
    "    # transforms.ToPILImage()中有一句\n",
    "    # npimg = np.transpose(pic.numpy(), (1, 2, 0))\n",
    "    # 因此pic只能是3-D Tensor，所以要用image[0]消去batch那一维\n",
    "    img = to_pil_image(image[0])\n",
    "    img.show()\n",
    "\n",
    "    # 方法2：plt.imshow(ndarray)\n",
    "    img = image[0]      # plt.imshow()只能接受3-D Tensor，所以也要用image[0]消去batch那一维\n",
    "    img = img.numpy()   # FloatTensor转为ndarray\n",
    "    img = np.transpose(img, (1,2,0))    # 把channel那一维放到最后\n",
    "\n",
    "    # 显示图片\n",
    "    plt.imshow(img)\n",
    "    plt.show()\n",
    "\n",
    "    cnt += 1"
   ]
  }
 ],
 "metadata": {
  "kernelspec": {
   "display_name": "Python 3",
   "language": "python",
   "name": "python3"
  },
  "language_info": {
   "codemirror_mode": {
    "name": "ipython",
    "version": 3
   },
   "file_extension": ".py",
   "mimetype": "text/x-python",
   "name": "python",
   "nbconvert_exporter": "python",
   "pygments_lexer": "ipython3",
   "version": "3.6.6"
  }
 },
 "nbformat": 4,
 "nbformat_minor": 2
}
