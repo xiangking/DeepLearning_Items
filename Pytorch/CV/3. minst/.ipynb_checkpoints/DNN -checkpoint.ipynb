{
 "cells": [
  {
   "cell_type": "code",
   "execution_count": 1,
   "metadata": {},
   "outputs": [],
   "source": [
    "%matplotlib inline\n",
    "\n",
    "# Author: Xiang Wang\n",
    "\n",
    "from __future__ import print_function, division\n",
    "\n",
    "import torch\n",
    "import torch.nn as nn\n",
    "import torch.optim as optim\n",
    "from torch.optim import lr_scheduler\n",
    "from torch.autograd import Variable\n",
    "import numpy as np\n",
    "import torchvision\n",
    "from torchvision import datasets, models, transforms, models\n",
    "import matplotlib.pyplot as plt\n",
    "import time\n",
    "import os\n",
    "import copy\n",
    "\n",
    "plt.ion()   # interactive mode"
   ]
  },
  {
   "cell_type": "markdown",
   "metadata": {},
   "source": [
    "## 一、数据处理与加载"
   ]
  },
  {
   "cell_type": "markdown",
   "metadata": {},
   "source": [
    "由于MNIST数据集较为简单，实际每个框架都自定义了其内置读入的方式，所以这里也就不从0读入，而是直接使用pytorch的内置的函数读入"
   ]
  },
  {
   "cell_type": "code",
   "execution_count": 98,
   "metadata": {},
   "outputs": [
    {
     "name": "stdout",
     "output_type": "stream",
     "text": [
      "==> Preparing data..\n"
     ]
    }
   ],
   "source": [
    "print('==> Preparing data..')\n",
    "\n",
    "data_transforms = {\n",
    "    'train': transforms.Compose([\n",
    "        transforms.ToTensor(),\n",
    "        transforms.Normalize([0.5], [0.5])\n",
    "    ]),\n",
    "\n",
    "    'test': transforms.Compose([\n",
    "        transforms.ToTensor(),\n",
    "        transforms.Normalize([0.5], [0.5])\n",
    "    ]),\n",
    "}\n",
    "\n",
    "\n",
    "# 上面的处理其实也等同于使用下面这个函数，只不过是pytorch为了用户使用方便而封装的东西，上面的操作是先将其转化为张量然后进行归一化操作\n",
    "# 注意，使用上面的方法时，/255这个操作是隐性的，不需要人为写出操作\n",
    "# def data_tf(x):\n",
    "#     x = np.array(x, dtype='float32') / 255\n",
    "#     x = (x - 0.5) / 0.5 # 标准化，这个技巧之后会讲到\n",
    "#     x = torch.from_numpy(x)\n",
    "#     return x"
   ]
  },
  {
   "cell_type": "code",
   "execution_count": 102,
   "metadata": {},
   "outputs": [],
   "source": [
    "# 使用内置函数下载和读入 mnist 数据集\n",
    "train_set = datasets.MNIST('/Users/macbook/Documents/Programme/pytorch/Data/Mnist ', train=True, download=True, \n",
    "                                 transform=data_transforms['train'])\n",
    "\n",
    "test_set = datasets.MNIST('/Users/macbook/Documents/Programme/pytorch/Data/Mnist ', train=False, download=True,\n",
    "                                 transform=data_transforms['test'])\n"
   ]
  },
  {
   "cell_type": "code",
   "execution_count": 104,
   "metadata": {
    "scrolled": true
   },
   "outputs": [
    {
     "name": "stdout",
     "output_type": "stream",
     "text": [
      "data_shape:  torch.Size([1, 28, 28]) \n",
      "label:  tensor(5)\n"
     ]
    }
   ],
   "source": [
    "# 我们可以看下数据读入和处理后的样子\n",
    "data, label = train_set[0]\n",
    "print('data_shape: ', data.shape, '\\nlabel: ', label)"
   ]
  },
  {
   "cell_type": "markdown",
   "metadata": {},
   "source": [
    "使用DataLoader得到可迭代形式的数据格式"
   ]
  },
  {
   "cell_type": "code",
   "execution_count": 105,
   "metadata": {},
   "outputs": [],
   "source": [
    "# 得到可batch的数据格式\n",
    "dataloaders = torch.utils.data.DataLoader(train_set, batch_size=4,\n",
    "                                             shuffle=True, num_workers=1)\n",
    "\n",
    "testdataloaders = torch.utils.data.DataLoader(test_set, batch_size=4,\n",
    "                                             shuffle=False, num_workers=1)"
   ]
  },
  {
   "cell_type": "code",
   "execution_count": 106,
   "metadata": {},
   "outputs": [
    {
     "name": "stdout",
     "output_type": "stream",
     "text": [
      "data_shape:  torch.Size([4, 1, 28, 28]) \n",
      "label:  tensor([ 7,  2,  1,  0])\n"
     ]
    }
   ],
   "source": [
    "data, label = next(iter(testdataloaders))\n",
    "print('data_shape: ', data.shape, '\\nlabel: ', label)"
   ]
  },
  {
   "cell_type": "markdown",
   "metadata": {},
   "source": [
    "## 二、建立模型"
   ]
  },
  {
   "cell_type": "code",
   "execution_count": 73,
   "metadata": {},
   "outputs": [],
   "source": [
    "class basicDNN(nn.Module):\n",
    "    \n",
    "    def __init__(self, num_classes=10):\n",
    "        super(basicDNN, self).__init__()\n",
    "        \n",
    "        self.model_name = 'DNN'\n",
    "        \n",
    "        self.fc = nn.Sequential(\n",
    "            nn.Linear(28 * 28, 400),\n",
    "            nn.ReLU(inplace=True),\n",
    "            \n",
    "            nn.Linear(400, 200),\n",
    "            nn.ReLU(inplace=True),\n",
    "            \n",
    "            nn.Linear(200, 100),\n",
    "            nn.ReLU(inplace=True),\n",
    "\n",
    "            nn.Linear(100, num_classes),\n",
    "            nn.ReLU(inplace=True),\n",
    "        )\n",
    "\n",
    "    def forward(self, x):\n",
    "        x = x.view(x.shape[0], -1)\n",
    "        x = self.fc(x)\n",
    "        return x"
   ]
  },
  {
   "cell_type": "code",
   "execution_count": 77,
   "metadata": {},
   "outputs": [],
   "source": [
    "model_ft = basicDNN()"
   ]
  },
  {
   "cell_type": "code",
   "execution_count": 78,
   "metadata": {},
   "outputs": [
    {
     "name": "stdout",
     "output_type": "stream",
     "text": [
      "basicDNN(\n",
      "  (fc): Sequential(\n",
      "    (0): Linear(in_features=784, out_features=400, bias=True)\n",
      "    (1): ReLU(inplace)\n",
      "    (2): Linear(in_features=400, out_features=200, bias=True)\n",
      "    (3): ReLU(inplace)\n",
      "    (4): Linear(in_features=200, out_features=100, bias=True)\n",
      "    (5): ReLU(inplace)\n",
      "    (6): Linear(in_features=100, out_features=10, bias=True)\n",
      "    (7): ReLU(inplace)\n",
      "  )\n",
      ")\n"
     ]
    }
   ],
   "source": [
    "# 查看我们定义的网络结构\n",
    "print(model_ft)"
   ]
  },
  {
   "cell_type": "markdown",
   "metadata": {},
   "source": [
    "## 三、设置必要的参数"
   ]
  },
  {
   "cell_type": "code",
   "execution_count": 83,
   "metadata": {},
   "outputs": [],
   "source": [
    "# 设置为GPU处理\n",
    "device = torch.device(\"cuda:0\" if torch.cuda.is_available() else \"cpu\")\n",
    "model_ft = model_ft.to(device)\n",
    "\n",
    "# 设置损失函数\n",
    "# 交叉熵在 pytorch 中已经内置了，同时不需要label也不需要我们做处理，内置函数会帮我们处理，非常省心\n",
    "criterion = nn.CrossEntropyLoss()\n",
    "\n",
    "# 设置优化算法\n",
    "optimizer = optim.SGD(model_ft.parameters(), lr=0.1)\n"
   ]
  },
  {
   "cell_type": "markdown",
   "metadata": {},
   "source": [
    "## 四、开始训练"
   ]
  },
  {
   "cell_type": "code",
   "execution_count": 109,
   "metadata": {},
   "outputs": [
    {
     "name": "stderr",
     "output_type": "stream",
     "text": [
      "/Users/macbook/anaconda3/lib/python3.6/site-packages/ipykernel_launcher.py:22: UserWarning: invalid index of a 0-dim tensor. This will be an error in PyTorch 0.5. Use tensor.item() to convert a 0-dim tensor to a Python number\n"
     ]
    },
    {
     "name": "stdout",
     "output_type": "stream",
     "text": [
      "0\n"
     ]
    },
    {
     "name": "stderr",
     "output_type": "stream",
     "text": [
      "/Users/macbook/anaconda3/lib/python3.6/site-packages/ipykernel_launcher.py:42: UserWarning: invalid index of a 0-dim tensor. This will be an error in PyTorch 0.5. Use tensor.item() to convert a 0-dim tensor to a Python number\n"
     ]
    },
    {
     "name": "stdout",
     "output_type": "stream",
     "text": [
      "epoch: 0, Train Loss: 2.302612, Train Acc: 0.098717, Eval Loss: 2.302601, Eval Acc: 0.098000\n"
     ]
    }
   ],
   "source": [
    "# 开始训练\n",
    "losses = []\n",
    "acces = []\n",
    "eval_losses = []\n",
    "eval_acces = []\n",
    "\n",
    "for e in range(1):\n",
    "    train_loss = 0\n",
    "    train_acc = 0\n",
    "    model_ft.train()\n",
    "    for im, label in dataloaders:\n",
    "        im = Variable(im)\n",
    "        label = Variable(label)\n",
    "        # 前向传播\n",
    "        out = model_ft(im)\n",
    "        loss = criterion(out, label)\n",
    "        # 反向传播\n",
    "        optimizer.zero_grad()\n",
    "        loss.backward()\n",
    "        optimizer.step()\n",
    "        # 记录误差\n",
    "        train_loss += loss.data[0]\n",
    "        # 计算分类的准确率\n",
    "        _, pred = out.max(1)\n",
    "        num_correct = (pred == label).sum().item()\n",
    "        acc = num_correct / im.shape[0]\n",
    "        train_acc += acc\n",
    "    print(e)\n",
    "  \n",
    "    losses.append(train_loss / len(dataloaders))\n",
    "    acces.append(train_acc / len(dataloaders))\n",
    "    # 在测试集上检验效果\n",
    "    eval_loss = 0\n",
    "    eval_acc = 0\n",
    "    model_ft.eval() # 将模型改为预测模式\n",
    "    for im, label in testdataloaders:\n",
    "        im = Variable(im)\n",
    "        label = Variable(label)\n",
    "        out = model_ft(im)\n",
    "        loss = criterion(out, label)\n",
    "        # 记录误差\n",
    "        eval_loss += loss.data[0]\n",
    "        # 记录准确率\n",
    "        _, pred = out.max(1)\n",
    "        num_correct = (pred == label).sum().item()\n",
    "        acc = num_correct / im.shape[0]\n",
    "        eval_acc += acc\n",
    "        \n",
    "    eval_losses.append(eval_loss / len(testdataloaders))\n",
    "    eval_acces.append(eval_acc / len(testdataloaders))\n",
    "    print('epoch: {}, Train Loss: {:.6f}, Train Acc: {:.6f}, Eval Loss: {:.6f}, Eval Acc: {:.6f}'\n",
    "          .format(e, train_loss / len(dataloaders), train_acc / len(dataloaders), \n",
    "                     eval_loss / len(testdataloaders), eval_acc / len(testdataloaders)))"
   ]
  },
  {
   "cell_type": "markdown",
   "metadata": {},
   "source": [
    "## 五、模型的保存与加载"
   ]
  },
  {
   "cell_type": "code",
   "execution_count": 129,
   "metadata": {},
   "outputs": [
    {
     "name": "stderr",
     "output_type": "stream",
     "text": [
      "/Users/macbook/anaconda3/lib/python3.6/site-packages/torch/serialization.py:193: UserWarning: Couldn't retrieve source code for container of type basicDNN. It won't be checked for correctness upon loading.\n",
      "  \"type \" + obj.__name__ + \". It won't be checked \"\n"
     ]
    }
   ],
   "source": [
    "torch.save(model_ft, 'save_model.pth')"
   ]
  },
  {
   "cell_type": "code",
   "execution_count": 130,
   "metadata": {},
   "outputs": [],
   "source": [
    "model_ft2 = torch.load('save_model.pth')"
   ]
  }
 ],
 "metadata": {
  "kernelspec": {
   "display_name": "Python 3",
   "language": "python",
   "name": "python3"
  },
  "language_info": {
   "codemirror_mode": {
    "name": "ipython",
    "version": 3
   },
   "file_extension": ".py",
   "mimetype": "text/x-python",
   "name": "python",
   "nbconvert_exporter": "python",
   "pygments_lexer": "ipython3",
   "version": "3.6.4"
  }
 },
 "nbformat": 4,
 "nbformat_minor": 2
}
