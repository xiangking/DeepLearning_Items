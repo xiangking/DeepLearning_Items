{
 "cells": [
  {
   "cell_type": "code",
   "execution_count": 1,
   "metadata": {},
   "outputs": [],
   "source": [
    "import torch\n",
    "from torch.autograd import Variable\n",
    "from torch import nn"
   ]
  },
  {
   "cell_type": "markdown",
   "metadata": {},
   "source": [
    "![](https://ws1.sinaimg.cn/large/006tKfTcly1fmt9xz889xj30kb07nglo.jpg)"
   ]
  },
  {
   "cell_type": "markdown",
   "metadata": {},
   "source": [
    "`class torch.nn.RNN(input_size, hidden_size, num_layers, nonlinearity, bias, batch_first, dropout, bidirectional)`"
   ]
  },
  {
   "cell_type": "markdown",
   "metadata": {},
   "source": [
    "Parameters:\t\n",
    "* input_size – $x_{t}$的特征维度，也就是词向量的长度\n",
    "* hidden_size – 隐含层也就是h的size\n",
    "* num_layers – 使用几层RNN\n",
    "* nonlinearity – 是否使用非线性函数，默认是‘tanh‘\n",
    "* bias – 是否添加偏置\n",
    "* batch_first – 是否input和output使用(batch, seq, feature)的形式\n",
    "* dropout – dropout的比例，默认是0\n",
    "* bidirectional – 是否使用双向RNN"
   ]
  },
  {
   "cell_type": "markdown",
   "metadata": {},
   "source": [
    "初始化后的对象：\n",
    "\n",
    "* Inputs: input, h_0\n",
    "* Outputs: output, h_n\n"
   ]
  },
  {
   "cell_type": "code",
   "execution_count": 2,
   "metadata": {},
   "outputs": [],
   "source": [
    "# 这里只使用RNN()，因为基本只用这个类，而不用RNNCell\n",
    "rnn_seq = nn.RNN(100, 200)"
   ]
  },
  {
   "cell_type": "code",
   "execution_count": 3,
   "metadata": {
    "scrolled": true
   },
   "outputs": [
    {
     "name": "stdout",
     "output_type": "stream",
     "text": [
      "输入到隐层的权值:  torch.Size([200, 100])\n",
      "上一个时刻状态到下一个时刻的权值:  torch.Size([200, 200])\n"
     ]
    }
   ],
   "source": [
    "print('输入到隐层的权值: ', rnn_seq.weight_ih_l0.shape)\n",
    "print('上一个时刻状态到下一个时刻的权值: ', rnn_seq.weight_hh_l0.shape)"
   ]
  },
  {
   "cell_type": "markdown",
   "metadata": {},
   "source": [
    "<b>注意: </b> pytorch的RNN的输出是直接输出$h_{t}$而不是再经过一个神经网络得到$o_{t}$"
   ]
  },
  {
   "cell_type": "code",
   "execution_count": 4,
   "metadata": {},
   "outputs": [],
   "source": [
    "# 构造一个序列，长为 6，batch 是 5， 特征是 100\n",
    "x = Variable(torch.randn(6, 5, 100)) # 这是 rnn 的输入格式：\n",
    "                                     # (num_step, batchsize, word)也就是(选取的序列长度，每次批量的大小，和词向量的大小)"
   ]
  },
  {
   "cell_type": "code",
   "execution_count": 5,
   "metadata": {},
   "outputs": [],
   "source": [
    "output, state = rnn_seq(x)"
   ]
  },
  {
   "cell_type": "code",
   "execution_count": 6,
   "metadata": {
    "scrolled": true
   },
   "outputs": [
    {
     "name": "stdout",
     "output_type": "stream",
     "text": [
      "output:  torch.Size([6, 5, 200]) \n",
      "state:  torch.Size([1, 5, 200])\n"
     ]
    }
   ],
   "source": [
    "print('output: ', output.shape,'\\nstate: ', state.shape)"
   ]
  },
  {
   "cell_type": "markdown",
   "metadata": {},
   "source": [
    "output其实就是所有的隐层输出，state就是最后一个神经元的输出"
   ]
  },
  {
   "cell_type": "markdown",
   "metadata": {},
   "source": [
    "<b> 当RNN取多个时："
   ]
  },
  {
   "cell_type": "code",
   "execution_count": 12,
   "metadata": {},
   "outputs": [],
   "source": [
    "rnn_seq = nn.RNN(100, 200, num_layers=3)"
   ]
  },
  {
   "cell_type": "code",
   "execution_count": 8,
   "metadata": {},
   "outputs": [
    {
     "name": "stdout",
     "output_type": "stream",
     "text": [
      "输入到隐层的权值1:  torch.Size([200, 100])\n",
      "上一个时刻状态到下一个时刻的权值1:  torch.Size([200, 200]) \n",
      "\n",
      "输入到隐层的权值2:  torch.Size([200, 200])\n",
      "上一个时刻状态到下一个时刻的权值2:  torch.Size([200, 200]) \n",
      "\n",
      "输入到隐层的权值2:  torch.Size([200, 200])\n",
      "上一个时刻状态到下一个时刻的权值2:  torch.Size([200, 200]) \n",
      "\n"
     ]
    }
   ],
   "source": [
    "print('输入到隐层的权值1: ', rnn_seq.weight_ih_l0.shape)\n",
    "print('上一个时刻状态到下一个时刻的权值1: ', rnn_seq.weight_hh_l0.shape, '\\n')\n",
    "print('输入到隐层的权值2: ', rnn_seq.weight_ih_l1.shape)\n",
    "print('上一个时刻状态到下一个时刻的权值2: ', rnn_seq.weight_hh_l1.shape, '\\n')\n",
    "print('输入到隐层的权值2: ', rnn_seq.weight_ih_l2.shape)\n",
    "print('上一个时刻状态到下一个时刻的权值2: ', rnn_seq.weight_hh_l2.shape, '\\n')"
   ]
  },
  {
   "cell_type": "code",
   "execution_count": 13,
   "metadata": {
    "scrolled": true
   },
   "outputs": [
    {
     "name": "stdout",
     "output_type": "stream",
     "text": [
      "output:  torch.Size([1, 1, 2]) \n",
      "state:  torch.Size([3, 1, 2])\n"
     ]
    }
   ],
   "source": [
    "x = Variable(torch.randn(6, 5, 100)) \n",
    "output, state = rnn_seq(x)\n",
    "\n",
    "print('output: ', output.shape,'\\nstate: ', state.shape)"
   ]
  },
  {
   "cell_type": "markdown",
   "metadata": {},
   "source": [
    "这里的output输出每一个RNN最后一层的输出，state输出最后一个RNN的所有h"
   ]
  }
 ],
 "metadata": {
  "kernelspec": {
   "display_name": "Python 3",
   "language": "python",
   "name": "python3"
  },
  "language_info": {
   "codemirror_mode": {
    "name": "ipython",
    "version": 3
   },
   "file_extension": ".py",
   "mimetype": "text/x-python",
   "name": "python",
   "nbconvert_exporter": "python",
   "pygments_lexer": "ipython3",
   "version": "3.6.4"
  }
 },
 "nbformat": 4,
 "nbformat_minor": 2
}
