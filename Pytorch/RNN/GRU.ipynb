{
 "cells": [
  {
   "cell_type": "code",
   "execution_count": 2,
   "metadata": {},
   "outputs": [],
   "source": [
    "import torch\n",
    "from torch.autograd import Variable\n",
    "from torch import nn\n",
    "\n",
    "import numpy as np"
   ]
  },
  {
   "cell_type": "markdown",
   "metadata": {},
   "source": [
    "![](https://ws3.sinaimg.cn/large/006tKfTcly1fmtaj38y9sj30io06bmxc.jpg)"
   ]
  },
  {
   "cell_type": "markdown",
   "metadata": {},
   "source": [
    "\\begin{split}\\begin{array}{ll}\n",
    "r_t = \\sigma(W_{ir} x_t + b_{ir} + W_{hr} h_{(t-1)} + b_{hr}) \\\\\n",
    "z_t = \\sigma(W_{iz} x_t + b_{iz} + W_{hz} h_{(t-1)} + b_{hz}) \\\\\n",
    "n_t = \\tanh(W_{in} x_t + b_{in} + r_t (W_{hn} h_{(t-1)}+ b_{hn})) \\\\\n",
    "h_t = (1 - z_t) n_t + z_t h_{(t-1)} \\\\\n",
    "\\end{array}\\end{split}"
   ]
  },
  {
   "cell_type": "markdown",
   "metadata": {},
   "source": [
    "`class torch.nn.GRU(input_size, hidden_size, num_layers, bias, batch_first, dropout, bidirectional)`"
   ]
  },
  {
   "cell_type": "markdown",
   "metadata": {},
   "source": [
    "Parameters:\t\n",
    "* input_size – $x_{t}$的特征维度，也就是词向量的长度\n",
    "* hidden_size – 隐含层也就是h的size\n",
    "* num_layers – 使用几层RNN\n",
    "* bias – 是否添加偏置\n",
    "* batch_first – 是否input和output使用(batch, seq, feature)的形式\n",
    "* dropout – dropout的比例，默认是0\n",
    "* bidirectional – 是否使用双向RNN"
   ]
  },
  {
   "cell_type": "markdown",
   "metadata": {},
   "source": [
    "初始化后的对象：\n",
    "\n",
    "* Inputs: input, h_0\n",
    "* Outputs: output, h_n"
   ]
  },
  {
   "cell_type": "code",
   "execution_count": 5,
   "metadata": {},
   "outputs": [],
   "source": [
    "# 这里只使用RNN()，因为基本只用这个类，而不用RNNCell\n",
    "gru_seq = nn.GRU(100, 200)"
   ]
  },
  {
   "cell_type": "code",
   "execution_count": 6,
   "metadata": {},
   "outputs": [
    {
     "name": "stdout",
     "output_type": "stream",
     "text": [
      "输入到隐层的权值:  torch.Size([600, 100])\n",
      "上一个时刻状态到下一个时刻的权值:  torch.Size([600, 200])\n"
     ]
    }
   ],
   "source": [
    "print('输入到隐层的权值: ', gru_seq.weight_ih_l0.shape)\n",
    "print('上一个时刻状态到下一个时刻的权值: ', gru_seq.weight_hh_l0.shape)"
   ]
  },
  {
   "cell_type": "markdown",
   "metadata": {},
   "source": [
    "这里之所以权值这么为600，是因为有3个门，所以3 * 200 "
   ]
  },
  {
   "cell_type": "code",
   "execution_count": 7,
   "metadata": {},
   "outputs": [],
   "source": [
    "# 构造一个序列，长为 6，batch 是 5， 特征是 100\n",
    "x = Variable(torch.randn(6, 5, 100)) # 这是 rnn 的输入格式：\n",
    "                                     # (num_step, batchsize, word)也就是(选取的序列长度，每次批量的大小，和词向量的大小)"
   ]
  },
  {
   "cell_type": "code",
   "execution_count": 10,
   "metadata": {},
   "outputs": [],
   "source": [
    "output, state = gru_seq(x)"
   ]
  },
  {
   "cell_type": "code",
   "execution_count": 11,
   "metadata": {},
   "outputs": [
    {
     "name": "stdout",
     "output_type": "stream",
     "text": [
      "output:  torch.Size([6, 5, 200]) \n",
      "state:  torch.Size([1, 5, 200])\n"
     ]
    }
   ],
   "source": [
    "print('output: ', np.shape(output),'\\nstate: ', np.shape(state))"
   ]
  }
 ],
 "metadata": {
  "kernelspec": {
   "display_name": "Python 3",
   "language": "python",
   "name": "python3"
  },
  "language_info": {
   "codemirror_mode": {
    "name": "ipython",
    "version": 3
   },
   "file_extension": ".py",
   "mimetype": "text/x-python",
   "name": "python",
   "nbconvert_exporter": "python",
   "pygments_lexer": "ipython3",
   "version": "3.6.6"
  }
 },
 "nbformat": 4,
 "nbformat_minor": 2
}
