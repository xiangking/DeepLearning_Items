{
 "cells": [
  {
   "cell_type": "code",
   "execution_count": 93,
   "metadata": {},
   "outputs": [],
   "source": [
    "%matplotlib inline\n",
    "\n",
    "# Author: Xiang Wang\n",
    "\n",
    "from __future__ import print_function, division\n",
    "\n",
    "import os\n",
    "import copy\n",
    "\n",
    "import torch\n",
    "import torch.nn as nn\n",
    "import torch.nn.functional as F\n",
    "import torch.optim as optim\n",
    "from torch.optim import lr_scheduler\n",
    "from torch.autograd import Variable\n",
    "import torchvision\n",
    "from torchvision import datasets, models, transforms, models\n",
    "\n",
    "import numpy as np\n",
    "import matplotlib.pyplot as plt\n",
    "import time\n",
    "\n",
    "\n",
    "plt.ion()   # interactive mode"
   ]
  },
  {
   "cell_type": "markdown",
   "metadata": {},
   "source": [
    "## 一、文件夹结构设计和数据存放"
   ]
  },
  {
   "cell_type": "markdown",
   "metadata": {},
   "source": [
    "### 1. 建立存放数据的文件夹"
   ]
  },
  {
   "cell_type": "code",
   "execution_count": 49,
   "metadata": {},
   "outputs": [],
   "source": [
    "# shutil －一种高层次的文件操作工具，强大之处是在对文件的复制与删除操作支持比较好\n",
    "import os\n",
    "import shutil"
   ]
  },
  {
   "cell_type": "code",
   "execution_count": null,
   "metadata": {},
   "outputs": [],
   "source": [
    "# 建立data文件夹用于存放数据，train和val分别存放训练集和验证集\n",
    "# .mkdir的函数用于建立该路径下的文件夹\n",
    "os.mkdir('D:/1.DataAnalysisPrograme/DeepLearning/Pytroch/Data/CIFAR/')\n",
    "os.mkdir('D:/1.DataAnalysisPrograme/DeepLearning/Pytroch/Data/CIFAR/train')\n",
    "os.mkdir('D:/1.DataAnalysisPrograme/DeepLearning/Pytroch/Data/CIFAR/val')"
   ]
  },
  {
   "cell_type": "code",
   "execution_count": null,
   "metadata": {},
   "outputs": [],
   "source": [
    "# 得到id和label，以便以下面分割数据集\n",
    "import pandas as pd\n",
    "\n",
    "idLabel = pd.read_csv('D:/1.DataAnalysisPrograme/DeepLearning/Pytroch/Data/CIFAR/trainLabels.csv')"
   ]
  },
  {
   "cell_type": "code",
   "execution_count": null,
   "metadata": {},
   "outputs": [],
   "source": [
    "# 创建训练集分类的label的文件夹\n",
    "train_root = 'D:/1.DataAnalysisPrograme/DeepLearning/Pytroch/Data/CIFAR/train'\n",
    "\n",
    "for label in idLabel.label.unique():\n",
    "    os.mkdir(os.path.join(train_root, label))"
   ]
  },
  {
   "cell_type": "code",
   "execution_count": null,
   "metadata": {},
   "outputs": [],
   "source": [
    "# 创建测试集分类的label的文件夹\n",
    "val_root = 'D:/1.DataAnalysisPrograme/DeepLearning/Pytroch/Data/CIFAR/val'\n",
    "\n",
    "for label in idLabel.label.unique():\n",
    "    os.mkdir(os.path.join(val_root, label))"
   ]
  },
  {
   "cell_type": "markdown",
   "metadata": {},
   "source": [
    "### 2. 分割数据集并将其存入对应文件夹\n"
   ]
  },
  {
   "cell_type": "code",
   "execution_count": null,
   "metadata": {},
   "outputs": [],
   "source": [
    "# .listdir主要用于列出该路径下所有的文件的名称，以列表的形式得到\n",
    "# 这里的路径是下载下来的CIFAR-10的训练集数据存放的路径\n",
    "data_file = os.listdir('D:/1.DataAnalysisPrograme/DeepLearning/Pytroch/Data/CIFAR-10/zip/train')"
   ]
  },
  {
   "cell_type": "code",
   "execution_count": null,
   "metadata": {},
   "outputs": [],
   "source": [
    "# 分割数据集\n",
    "import numpy as np\n",
    "idLabel_train = np.array(idLabel[['id','label']])[:48000]\n",
    "idLabel_val = np.array(idLabel[['id','label']])[48000:]"
   ]
  },
  {
   "cell_type": "code",
   "execution_count": null,
   "metadata": {},
   "outputs": [],
   "source": [
    "# 移动图片在训练集的相应位置\n",
    "root = 'D:/1.DataAnalysisPrograme/DeepLearning/Pytroch/Data/CIFAR-10/'\n",
    "\n",
    "for (id,label) in idLabel_train:\n",
    "    \n",
    "    pic_path = root + 'zip/train/' + str(id) + '.png'\n",
    "    \n",
    "    obj_path = train_root + '/' + str(label) + '/' + str(id) + '.png'\n",
    "    \n",
    "    shutil.copy(pic_path, obj_path)"
   ]
  },
  {
   "cell_type": "code",
   "execution_count": null,
   "metadata": {},
   "outputs": [],
   "source": [
    "# 移动图片到验证集的相应位置\n",
    "root =  'D:/1.DataAnalysisPrograme/DeepLearning/Pytroch/Data/CIFAR-10/'\n",
    "\n",
    "for (id,label) in idLabel_val:\n",
    "    \n",
    "    pic_path = root + 'zip/train/' + str(id) + '.png'\n",
    "    \n",
    "    obj_path = val_root + '/' + str(label) + '/' + str(id) + '.png'\n",
    "    \n",
    "    shutil.copy(pic_path, obj_path)"
   ]
  },
  {
   "cell_type": "markdown",
   "metadata": {},
   "source": [
    "## 二、数据处理与加载"
   ]
  },
  {
   "cell_type": "code",
   "execution_count": 94,
   "metadata": {},
   "outputs": [
    {
     "name": "stdout",
     "output_type": "stream",
     "text": [
      "==> Preparing data..\n"
     ]
    }
   ],
   "source": [
    "print('==> Preparing data..')\n",
    "\n",
    "data_transforms = {\n",
    "    'train': transforms.Compose([\n",
    "        transforms.RandomCrop(32, padding=4),\n",
    "        transforms.RandomHorizontalFlip(),\n",
    "        transforms.ToTensor(),\n",
    "        transforms.Normalize((0.5, 0.5, 0.5), (0.5, 0.5, 0.5))\n",
    "    ]),\n",
    "\n",
    "    'val': transforms.Compose([\n",
    "        transforms.ToTensor(),\n",
    "        transforms.Normalize((0.5, 0.5, 0.5), (0.5, 0.5, 0.5))\n",
    "    ]),\n",
    "    'test': transforms.Compose([\n",
    "        transforms.ToTensor(),\n",
    "        transforms.Normalize((0.5, 0.5, 0.5), (0.5, 0.5, 0.5))\n",
    "    ]),\n",
    "}\n"
   ]
  },
  {
   "cell_type": "code",
   "execution_count": 95,
   "metadata": {},
   "outputs": [],
   "source": [
    "data_dir = 'D:/1.DataAnalysisPrograme/DeepLearning/Pytroch/Data/CIFAR/'\n",
    "\n",
    "image_datasets = {x: torchvision.datasets.ImageFolder(os.path.join(data_dir, x), data_transforms[x]) \n",
    "                  for x in ['train', 'val', 'test']}\n",
    "\n",
    "# 得到可batch的数据格式\n",
    "dataloaders = {x: torch.utils.data.DataLoader(image_datasets[x], batch_size=32,\n",
    "                                             shuffle=True, num_workers=1)\n",
    "               for x in ['train', 'val']}\n",
    "\n",
    "testdataloaders = {x: torch.utils.data.DataLoader(image_datasets[x], batch_size=64,\n",
    "                                             shuffle=False, num_workers=1)\n",
    "                   for x in ['test']}\n",
    "\n",
    "\n",
    "# 得到数据规模\n",
    "dataset_sizes = {x: len(image_datasets[x]) for x in ['train', 'val','test']}\n",
    "\n",
    "# 得到分类名\n",
    "class_names = image_datasets['train'].classes\n",
    "\n",
    "device = torch.device(\"cuda:0\" if torch.cuda.is_available() else \"cpu\")"
   ]
  },
  {
   "cell_type": "markdown",
   "metadata": {},
   "source": [
    "## 三、建立模型"
   ]
  },
  {
   "cell_type": "code",
   "execution_count": 6,
   "metadata": {},
   "outputs": [],
   "source": [
    "# 首先定义VGG块，VGG最主要的思想就是多加卷积，且卷积后图的大小不变，图的大小变化靠池化来完成\n",
    "# input：num_convs：卷积的次数\n",
    "#       in_channels：输入的通道数\n",
    "#       out_channels：输出的通道数\n",
    "#\n",
    "# output：返回Sequential的VGG模块\n",
    "def vgg_block(num_convs, in_channels, out_channels):\n",
    "\n",
    "    net = [nn.Conv2d(in_channels, out_channels, kernel_size=3, padding=1), nn.ReLU(True)] # 定义第一层\n",
    "\n",
    "    for i in range(num_convs-1): # 定义后面的很多层\n",
    "        net.append(nn.Conv2d(out_channels, out_channels, kernel_size=3, padding=1))\n",
    "        net.append(nn.ReLU(True))\n",
    "        \n",
    "    net.append(nn.MaxPool2d(2, 2)) # 定义池化层\n",
    "    return nn.Sequential(*net)"
   ]
  },
  {
   "cell_type": "code",
   "execution_count": 7,
   "metadata": {},
   "outputs": [],
   "source": [
    "# 该函数主要用来堆叠VGG块，VGG卷积网络就是由多个VGG块和最后的全连接层实现\n",
    "# input：num_convs：VGG块中卷积的次数（由数组来表示）\n",
    "#       channels：通道数（由[输入通道，输出通道]这样的数组所组成的大数组表示\n",
    "#       out_channels：输出的通道数\n",
    "#\n",
    "# output：返回VGG卷积部分的网络\n",
    "def vgg_stack(num_convs, channels):\n",
    "    net = []\n",
    "    for n, c in zip(num_convs, channels):\n",
    "        in_c = c[0]\n",
    "        out_c = c[1]\n",
    "        net.append(vgg_block(n, in_c, out_c))\n",
    "    return nn.Sequential(*net)"
   ]
  },
  {
   "cell_type": "code",
   "execution_count": 85,
   "metadata": {},
   "outputs": [
    {
     "name": "stdout",
     "output_type": "stream",
     "text": [
      "Sequential(\n",
      "  (0): Sequential(\n",
      "    (0): Conv2d(3, 64, kernel_size=(3, 3), stride=(1, 1), padding=(1, 1))\n",
      "    (1): ReLU(inplace)\n",
      "    (2): MaxPool2d(kernel_size=2, stride=2, padding=0, dilation=1, ceil_mode=False)\n",
      "  )\n",
      "  (1): Sequential(\n",
      "    (0): Conv2d(64, 128, kernel_size=(3, 3), stride=(1, 1), padding=(1, 1))\n",
      "    (1): ReLU(inplace)\n",
      "    (2): MaxPool2d(kernel_size=2, stride=2, padding=0, dilation=1, ceil_mode=False)\n",
      "  )\n",
      "  (2): Sequential(\n",
      "    (0): Conv2d(128, 256, kernel_size=(3, 3), stride=(1, 1), padding=(1, 1))\n",
      "    (1): ReLU(inplace)\n",
      "    (2): Conv2d(256, 256, kernel_size=(3, 3), stride=(1, 1), padding=(1, 1))\n",
      "    (3): ReLU(inplace)\n",
      "    (4): MaxPool2d(kernel_size=2, stride=2, padding=0, dilation=1, ceil_mode=False)\n",
      "  )\n",
      "  (3): Sequential(\n",
      "    (0): Conv2d(256, 512, kernel_size=(3, 3), stride=(1, 1), padding=(1, 1))\n",
      "    (1): ReLU(inplace)\n",
      "    (2): Conv2d(512, 512, kernel_size=(3, 3), stride=(1, 1), padding=(1, 1))\n",
      "    (3): ReLU(inplace)\n",
      "    (4): MaxPool2d(kernel_size=2, stride=2, padding=0, dilation=1, ceil_mode=False)\n",
      "  )\n",
      "  (4): Sequential(\n",
      "    (0): Conv2d(512, 512, kernel_size=(3, 3), stride=(1, 1), padding=(1, 1))\n",
      "    (1): ReLU(inplace)\n",
      "    (2): Conv2d(512, 512, kernel_size=(3, 3), stride=(1, 1), padding=(1, 1))\n",
      "    (3): ReLU(inplace)\n",
      "    (4): MaxPool2d(kernel_size=2, stride=2, padding=0, dilation=1, ceil_mode=False)\n",
      "  )\n",
      ")\n"
     ]
    }
   ],
   "source": [
    "# 建立VGG卷积部分的网络\n",
    "vgg_net = vgg_stack([1, 1, 2, 2, 2], [[3, 64], [64, 128], [128, 256], [256, 512], [512, 512]])\n",
    "print(vgg_net)"
   ]
  },
  {
   "cell_type": "code",
   "execution_count": 96,
   "metadata": {},
   "outputs": [],
   "source": [
    "class vggNet(nn.Module):\n",
    "    \n",
    "    def __init__(self, num_classes=10):\n",
    "        super(vggNet, self).__init__()\n",
    "        \n",
    "        self.model_name = 'vggNet'\n",
    "        \n",
    "        self.features = vgg_net\n",
    "        \n",
    "        \n",
    "        self.fc = nn.Sequential(\n",
    "            nn.Linear(512, 100),\n",
    "            nn.ReLU(True),\n",
    "            nn.Linear(100, 10)\n",
    "        )\n",
    "\n",
    "    def forward(self, x):\n",
    "        x = self.features(x)\n",
    "        x = x.view(x.shape[0], -1)\n",
    "\n",
    "        x = self.fc(x)\n",
    "        \n",
    "        return x"
   ]
  },
  {
   "cell_type": "code",
   "execution_count": 97,
   "metadata": {
    "scrolled": true
   },
   "outputs": [],
   "source": [
    "model_ft = vggNet()"
   ]
  },
  {
   "cell_type": "markdown",
   "metadata": {},
   "source": [
    "## 四、设置必要的参数"
   ]
  },
  {
   "cell_type": "code",
   "execution_count": 98,
   "metadata": {},
   "outputs": [],
   "source": [
    "# 设置为GPU处理\n",
    "model_ft = model_ft.to(device)\n",
    "\n",
    "# 设置损失函数\n",
    "criterion = nn.CrossEntropyLoss()\n",
    "# 设置优化算法\n",
    "optimizer_ft = optim.SGD(model_ft.parameters(), lr=0.1)\n",
    "\n",
    "# Decay LR by a factor of 0.1 every 7 epochs\n",
    "exp_lr_scheduler = lr_scheduler.StepLR(optimizer_ft, step_size=7, gamma=0.1)"
   ]
  },
  {
   "cell_type": "markdown",
   "metadata": {},
   "source": [
    "## 五、训练阶段"
   ]
  },
  {
   "cell_type": "code",
   "execution_count": 99,
   "metadata": {},
   "outputs": [],
   "source": [
    "def train_model(model, criterion, optimizer, scheduler, num_epochs=25):\n",
    "    \n",
    "    # static_dict()用于返回包含模块所有状态的字典，包括参数和缓存。键是参数名称或者缓存名称。\n",
    "    best_model_wts = copy.deepcopy(model.state_dict())\n",
    "    best_acc = 0.0\n",
    "\n",
    "    for epoch in range(num_epochs):\n",
    "        print('Epoch {}/{}'.format(epoch, num_epochs - 1))\n",
    "        print('-' * 10)\n",
    "\n",
    "        # Each epoch has a training and validation phase\n",
    "        for phase in ['train', 'val']:\n",
    "            if phase == 'train':\n",
    "                since = time.time()\n",
    "                scheduler.step()\n",
    "                model.train()  # Set model to training mode\n",
    "            else:\n",
    "                model.eval()   # Set model to evaluate mode\n",
    "\n",
    "            running_loss = 0.0\n",
    "            running_corrects = 0\n",
    "\n",
    "            # 加入一个batch，将得到的数据放置到制定的设备上（GPU或者CPU）\n",
    "            for inputs, labels in dataloaders[phase]:\n",
    "                inputs = inputs.to(device)\n",
    "                labels = labels.to(device)\n",
    "                \n",
    "                # 清空梯度\n",
    "                optimizer.zero_grad()\n",
    "\n",
    "                # forward\n",
    "                # track history if only in train\n",
    "                with torch.set_grad_enabled(phase == 'train'):\n",
    "                    outputs = model(inputs)\n",
    "                    _, preds = torch.max(outputs, 1)\n",
    "                    loss = criterion(outputs, labels)\n",
    "\n",
    "                    # backward + optimize only if in training phase\n",
    "                    if phase == 'train':\n",
    "                        loss.backward()\n",
    "                        optimizer.step()\n",
    "\n",
    "                # statistics\n",
    "                # 以前是使用.data[0]来得到loss，不过官方推荐使用item来转化这里数据\n",
    "                running_loss += loss.item() * inputs.size(0)\n",
    "                running_corrects += torch.sum(preds == labels.data)\n",
    "\n",
    "            epoch_loss = running_loss / dataset_sizes[phase]\n",
    "            epoch_acc = running_corrects.double() / dataset_sizes[phase]\n",
    "\n",
    "            print('{} Loss: {:.4f} Acc: {:.4f}'.format(\n",
    "                phase, epoch_loss, epoch_acc))\n",
    "            \n",
    "            if phase == 'train':\n",
    "                time_elapsed = time.time() - since\n",
    "                print('Training complete in {:.0f}m {:.0f}s'.format(time_elapsed // 60, time_elapsed % 60))\n",
    "\n",
    "            # deep copy the model\n",
    "            if phase == 'val' and epoch_acc > best_acc:\n",
    "                best_acc = epoch_acc\n",
    "                best_model_wts = copy.deepcopy(model.state_dict())\n",
    "\n",
    "\n",
    "\n",
    "    print('Best val Acc: {:4f}'.format(best_acc))\n",
    "\n",
    "    # load best model weights\n",
    "    model.load_state_dict(best_model_wts)\n",
    "    return model"
   ]
  },
  {
   "cell_type": "code",
   "execution_count": 100,
   "metadata": {
    "scrolled": true
   },
   "outputs": [
    {
     "name": "stdout",
     "output_type": "stream",
     "text": [
      "Epoch 0/24\n",
      "----------\n",
      "train Loss: 1.1875 Acc: 0.5825\n",
      "Training complete in 0m 47s\n",
      "val Loss: 0.9178 Acc: 0.6740\n",
      "Epoch 1/24\n",
      "----------\n",
      "train Loss: 0.9605 Acc: 0.6644\n",
      "Training complete in 0m 47s\n",
      "val Loss: 0.8057 Acc: 0.7340\n",
      "Epoch 2/24\n",
      "----------\n",
      "train Loss: 0.8338 Acc: 0.7126\n",
      "Training complete in 0m 48s\n",
      "val Loss: 0.7234 Acc: 0.7455\n",
      "Epoch 3/24\n",
      "----------\n",
      "train Loss: 0.7416 Acc: 0.7459\n",
      "Training complete in 0m 48s\n",
      "val Loss: 0.6723 Acc: 0.7740\n",
      "Epoch 4/24\n",
      "----------\n",
      "train Loss: 0.6691 Acc: 0.7731\n",
      "Training complete in 0m 48s\n",
      "val Loss: 0.6009 Acc: 0.8065\n",
      "Epoch 5/24\n",
      "----------\n",
      "train Loss: 0.6033 Acc: 0.7934\n",
      "Training complete in 0m 48s\n",
      "val Loss: 0.6004 Acc: 0.7950\n",
      "Epoch 6/24\n",
      "----------\n",
      "train Loss: 0.5534 Acc: 0.8121\n",
      "Training complete in 0m 48s\n",
      "val Loss: 0.5338 Acc: 0.8205\n",
      "Epoch 7/24\n",
      "----------\n",
      "train Loss: 0.5193 Acc: 0.8241\n",
      "Training complete in 0m 48s\n",
      "val Loss: 0.6164 Acc: 0.7885\n",
      "Epoch 8/24\n",
      "----------\n",
      "train Loss: 0.4869 Acc: 0.8348\n",
      "Training complete in 0m 48s\n",
      "val Loss: 0.4962 Acc: 0.8385\n",
      "Epoch 9/24\n",
      "----------\n",
      "train Loss: 0.4523 Acc: 0.8462\n",
      "Training complete in 0m 48s\n",
      "val Loss: 0.5584 Acc: 0.8205\n",
      "Epoch 10/24\n",
      "----------\n",
      "train Loss: 0.4207 Acc: 0.8574\n",
      "Training complete in 0m 48s\n",
      "val Loss: 0.6699 Acc: 0.8065\n",
      "Epoch 11/24\n",
      "----------\n",
      "train Loss: 0.4026 Acc: 0.8647\n",
      "Training complete in 0m 48s\n",
      "val Loss: 0.4790 Acc: 0.8415\n",
      "Epoch 12/24\n",
      "----------\n",
      "train Loss: 0.3771 Acc: 0.8702\n",
      "Training complete in 0m 48s\n",
      "val Loss: 0.4637 Acc: 0.8505\n",
      "Epoch 13/24\n",
      "----------\n",
      "train Loss: 0.3595 Acc: 0.8768\n",
      "Training complete in 0m 48s\n",
      "val Loss: 0.4901 Acc: 0.8405\n",
      "Epoch 14/24\n",
      "----------\n",
      "train Loss: 0.3406 Acc: 0.8839\n",
      "Training complete in 0m 48s\n",
      "val Loss: 0.4752 Acc: 0.8430\n",
      "Epoch 15/24\n",
      "----------\n",
      "train Loss: 0.3226 Acc: 0.8896\n",
      "Training complete in 0m 48s\n",
      "val Loss: 0.4872 Acc: 0.8385\n",
      "Epoch 16/24\n",
      "----------\n",
      "train Loss: 0.3087 Acc: 0.8947\n",
      "Training complete in 0m 48s\n",
      "val Loss: 0.4310 Acc: 0.8535\n",
      "Epoch 17/24\n",
      "----------\n",
      "train Loss: 0.2929 Acc: 0.9018\n",
      "Training complete in 0m 48s\n",
      "val Loss: 0.4698 Acc: 0.8475\n",
      "Epoch 18/24\n",
      "----------\n",
      "train Loss: 0.2708 Acc: 0.9069\n",
      "Training complete in 0m 48s\n",
      "val Loss: 0.4246 Acc: 0.8605\n",
      "Epoch 19/24\n",
      "----------\n",
      "train Loss: 0.2649 Acc: 0.9099\n",
      "Training complete in 0m 48s\n",
      "val Loss: 0.4016 Acc: 0.8655\n",
      "Epoch 20/24\n",
      "----------\n",
      "train Loss: 0.2554 Acc: 0.9114\n",
      "Training complete in 0m 48s\n",
      "val Loss: 0.4810 Acc: 0.8665\n",
      "Epoch 21/24\n",
      "----------\n",
      "train Loss: 0.2437 Acc: 0.9156\n",
      "Training complete in 0m 48s\n",
      "val Loss: 0.4656 Acc: 0.8560\n",
      "Epoch 22/24\n",
      "----------\n",
      "train Loss: 0.2329 Acc: 0.9194\n",
      "Training complete in 0m 48s\n",
      "val Loss: 0.4234 Acc: 0.8695\n",
      "Epoch 23/24\n",
      "----------\n",
      "train Loss: 0.2250 Acc: 0.9224\n",
      "Training complete in 0m 48s\n",
      "val Loss: 0.4381 Acc: 0.8680\n",
      "Epoch 24/24\n",
      "----------\n",
      "train Loss: 0.2131 Acc: 0.9266\n",
      "Training complete in 0m 48s\n",
      "val Loss: 0.4419 Acc: 0.8730\n",
      "Best val Acc: 0.873000\n"
     ]
    }
   ],
   "source": [
    "model_ft = train_model(model_ft, criterion, optimizer_ft, exp_lr_scheduler,num_epochs=25)"
   ]
  },
  {
   "cell_type": "markdown",
   "metadata": {},
   "source": [
    "## 六、预测和提交"
   ]
  },
  {
   "cell_type": "code",
   "execution_count": 101,
   "metadata": {},
   "outputs": [],
   "source": [
    "# 生成结果存放在preds中\n",
    "preds = []\n",
    "for i, (inputs, labels) in enumerate(testdataloaders['test']):\n",
    "    inputs = inputs.to(device)\n",
    "    labels = labels.to(device)\n",
    "\n",
    "    outputs = model_ft(inputs)\n",
    "    preds.append(torch.max(outputs, 1)[1])"
   ]
  },
  {
   "cell_type": "code",
   "execution_count": 102,
   "metadata": {},
   "outputs": [],
   "source": [
    "# 将字典转化成numpy格式，以方便上传\n",
    "labels=[]\n",
    "for i in range(len(preds)):\n",
    "    labels.extend(preds[i].cpu().numpy())"
   ]
  },
  {
   "cell_type": "code",
   "execution_count": 103,
   "metadata": {},
   "outputs": [],
   "source": [
    "# 得到图片的序号\n",
    "fileindex = []\n",
    "for i in range(300000):\n",
    "    fileindex.append(testdataloaders['test'].dataset.imgs[i][0].split('\\\\')[-1].split('.')[0])"
   ]
  },
  {
   "cell_type": "code",
   "execution_count": 104,
   "metadata": {},
   "outputs": [],
   "source": [
    "# 将label序号改成label名称\n",
    "labels = [class_names[x] for x in labels]"
   ]
  },
  {
   "cell_type": "code",
   "execution_count": 105,
   "metadata": {},
   "outputs": [],
   "source": [
    "# 组合序号和预测结果，存放在.csv中\n",
    "import pandas as pd\n",
    "\n",
    "labels = pd.Series(labels)\n",
    "ids = pd.DataFrame(fileindex)\n",
    "result = pd.concat([ids, labels], axis=1)\n",
    "result.columns=['id', 'label']\n",
    "\n",
    "result['id'] = result['id'].astype('int')\n",
    "\n",
    "result = result.sort_values(by='id')\n",
    "\n",
    "result.to_csv('submit.csv', index=None, header=['id', 'label'])"
   ]
  },
  {
   "cell_type": "markdown",
   "metadata": {},
   "source": [
    "## 七、模型的保存和加载"
   ]
  },
  {
   "cell_type": "code",
   "execution_count": 106,
   "metadata": {},
   "outputs": [
    {
     "name": "stderr",
     "output_type": "stream",
     "text": [
      "D:\\Complie\\Anconda\\lib\\site-packages\\torch\\serialization.py:193: UserWarning: Couldn't retrieve source code for container of type vggNet. It won't be checked for correctness upon loading.\n",
      "  \"type \" + obj.__name__ + \". It won't be checked \"\n"
     ]
    }
   ],
   "source": [
    "# 模型保存\n",
    "torch.save(model_ft, 'cifar10Model.pth')"
   ]
  },
  {
   "cell_type": "code",
   "execution_count": null,
   "metadata": {},
   "outputs": [],
   "source": [
    "# 模型加载\n",
    "model_ft = torch.load('cifar10Model.pth') "
   ]
  }
 ],
 "metadata": {
  "kernelspec": {
   "display_name": "Python 3",
   "language": "python",
   "name": "python3"
  },
  "language_info": {
   "codemirror_mode": {
    "name": "ipython",
    "version": 3
   },
   "file_extension": ".py",
   "mimetype": "text/x-python",
   "name": "python",
   "nbconvert_exporter": "python",
   "pygments_lexer": "ipython3",
   "version": "3.6.5"
  }
 },
 "nbformat": 4,
 "nbformat_minor": 2
}
